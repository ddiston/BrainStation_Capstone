{
 "cells": [
  {
   "cell_type": "markdown",
   "metadata": {},
   "source": [
    "*Velocity_Quantizer.ipynb* <p style='text-align: right;'> <b> September 20th 2020 </b> </p>\n",
    "<p style='text-align: right;'> <b> David Diston </b> </p>"
   ]
  },
  {
   "cell_type": "markdown",
   "metadata": {},
   "source": [
    "# Quantize Velocities for Computer Performance Midi Files"
   ]
  },
  {
   "cell_type": "markdown",
   "metadata": {},
   "source": [
    "***These files will be used when training a model to classify Human Performances and Computer Generated Performances***\n",
    "\n",
    "This code will sort through each Computer Performance Midi file in the project `PreVOLAdjust` folder:\n",
    "1. Each file will be copied and processed to bin all note velocities (volume)\n",
    "2. Note velocities will be randomly binned by one of four methods\n",
    "3. Each processed file copy will be saved as a new 'Computer Generated Performance' file in the `Computer_Performance_Midi` folder\n",
    "\n",
    "This process is used to finalize the creation of the Computer Performance MIDI files that will be used for training and testing my models performance classifying between human and computer performances. Unfortunately, I was unable to find an open source (and legal) dataset containing computer performance of classical piano pieces, coded in a consistent way, and containing only pieces used in my original dataset of human performances. As a result I have created my own dataset, based on the most common characteristics of computer performance midi files.\n",
    "\n",
    "In the previous step, I quantized the computer midi files to the nearest 16th note, which is the most common binning method for these type of files. Velocity presents a more complicated problem as computer midi files tend to be coded with a varrying number of unique velocities. What is common among computer performance midi files is that they are coded with far fewer unique velocities than human performers. To account for this variety in computer midi file velocities, I have created 4 different methods for coding these velocities, based on observations from actual computer midi files, and past projects in this subject area. These resulting files with binned note timings and velocities will be used to train and test my model."
   ]
  },
  {
   "cell_type": "code",
   "execution_count": 1,
   "metadata": {},
   "outputs": [],
   "source": [
    "# Import all libraries required for handling midi files and dataframes\n",
    "import mido\n",
    "from mido import MidiFile, MidiTrack, Message, MetaMessage\n",
    "import os\n",
    "import random"
   ]
  },
  {
   "cell_type": "code",
   "execution_count": null,
   "metadata": {
    "scrolled": true
   },
   "outputs": [
    {
     "name": "stdout",
     "output_type": "stream",
     "text": [
      "Processed 2391 files. Type1: 590, Type2: 600, Type3: 619, Type4: 582.\r"
     ]
    }
   ],
   "source": [
    "# Create a count of all files processed\n",
    "file_count = 0\n",
    "vel1 = 0\n",
    "vel2 = 0\n",
    "vel3 = 0\n",
    "vel4 = 0\n",
    "\n",
    "# I will iterate over all performance files in Raw_Midi to create the 'computer performance' files\n",
    "# Computer performance files have a single velocity and consistent timing\n",
    "# This notebook removes velocity variation from all files\n",
    "# Timing consistency will be imposed in another notebook\n",
    "for file in os.listdir('HumComp/HumComp_PreVOLAdjust/'):\n",
    "    \n",
    "    # I make a Mido object of each human performance file in Raw_Midi\n",
    "    clip = MidiFile(f'HumComp/HumComp_PreVOLAdjust/{file}')\n",
    "    \n",
    "    for note_start, msg in enumerate(clip.tracks[0]):\n",
    "        if msg.type == 'note_on':\n",
    "            break\n",
    "    \n",
    "    # Note: random.randint is inclusive\n",
    "    velocity_bin_type = random.randint(1, 4)\n",
    "\n",
    "    if velocity_bin_type == 1:\n",
    "        # Here I loop through the note track and note to bin each\n",
    "        for note in clip.tracks[0][note_start:-1]:\n",
    "            if note.type == 'note_on' or note.type == 'note_off':\n",
    "                if note.velocity >= 120:\n",
    "                    note.velocity = 120\n",
    "                elif note.velocity >= 110:\n",
    "                    note.velocity = 110\n",
    "                elif note.velocity >= 100:\n",
    "                    note.velocity = 100\n",
    "                elif note.velocity >= 90:\n",
    "                    note.velocity = 90\n",
    "                elif note.velocity >= 80:\n",
    "                    note.velocity = 80\n",
    "                elif note.velocity >= 70:\n",
    "                    note.velocity = 70\n",
    "                elif note.velocity >= 60:\n",
    "                    note.velocity = 60\n",
    "                elif note.velocity >= 50:\n",
    "                    note.velocity = 50\n",
    "                elif note.velocity >= 40:\n",
    "                    note.velocity = 40\n",
    "                elif note.velocity >= 30:\n",
    "                    note.velocity = 30\n",
    "                elif note.velocity >= 20:\n",
    "                    note.velocity = 20\n",
    "                elif note.velocity >= 10:\n",
    "                    note.velocity = 10\n",
    "                else:\n",
    "                    note.velocity = 0\n",
    "            else:\n",
    "                pass\n",
    "        vel1 += 1\n",
    "        # I create a variable to hold the name of the new file I am creating\n",
    "        new_name = 'COMP--Vel1--' + file[file.find('_C--') + 1 : -4] + str(vel1) + '.mid'\n",
    "        # I write the velocity adjusted Mido object to a new folder of computer performance files\n",
    "        clip.save(filename = f'HumComp/HumComp_QUANT/Computer/{new_name}')\n",
    "\n",
    "    elif velocity_bin_type == 2:\n",
    "        # Here I loop through each instrument (only piano here) and note to bin each\n",
    "        for note in clip.tracks[0][note_start:-1]:\n",
    "            if note.type == 'note_on' or note.type == 'note_off':                \n",
    "                if note.velocity >= 110:\n",
    "                    note.velocity = 110\n",
    "                elif note.velocity >= 90:\n",
    "                    note.velocity = 90\n",
    "                elif note.velocity >= 70:\n",
    "                    note.velocity = 70\n",
    "                elif note.velocity >= 50:\n",
    "                    note.velocity = 50\n",
    "                elif note.velocity >= 30:\n",
    "                    note.velocity = 30\n",
    "                elif note.velocity >= 10:\n",
    "                    note.velocity = 10\n",
    "                else:\n",
    "                    note.velocity = 0\n",
    "            else:\n",
    "                pass\n",
    "        vel2 += 1\n",
    "        # I create a variable to hold the name of the new file I am creating\n",
    "        new_name = 'COMP--Vel2--' + file[file.find('_C--') + 1 : -4] + str(vel2) + '.mid'\n",
    "        # I write the velocity adjusted Mido object to a new folder of computer performance files\n",
    "        clip.save(filename = f'HumComp/HumComp_QUANT/Computer/{new_name}')\n",
    "\n",
    "    elif velocity_bin_type == 3:\n",
    "        # Here I loop through each instrument (only piano here) and note to bin each\n",
    "        for note in clip.tracks[0][note_start:-1]:\n",
    "            if note.type == 'note_on' or note.type == 'note_off':\n",
    "                if note.velocity >= 80:\n",
    "                    note.velocity = 100\n",
    "                elif note.velocity >= 50:\n",
    "                    note.velocity = 60\n",
    "                elif note.velocity >= 10:\n",
    "                    note.velocity = 30\n",
    "                else:\n",
    "                    note.velocity = 0                    \n",
    "            else:\n",
    "                pass\n",
    "        vel3 += 1\n",
    "        # I create a variable to hold the name of the new file I am creating\n",
    "        new_name = 'COMP--Vel3--' + file[file.find('_C--') + 1 : -4] + str(vel3) + '.mid'\n",
    "        # I write the velocity adjusted Mido object to a new folder of computer performance files\n",
    "        clip.save(filename = f'HumComp/HumComp_QUANT/Computer/{new_name}')\n",
    "\n",
    "    else:\n",
    "        # Here I loop through each instrument (only piano here) and note to bin each\n",
    "        for note in clip.tracks[0][note_start:-1]:\n",
    "            if note.type == 'note_on' or note.type == 'note_off':\n",
    "                if note.velocity >= 10:\n",
    "                    note.velocity = 60\n",
    "                else:\n",
    "                    note.velocity = 0    \n",
    "            else:pass\n",
    "        vel4 += 1\n",
    "        # I create a variable to hold the name of the new file I am creating\n",
    "        new_name = 'COMP--Vel4--' + file[file.find('_C--') + 1 : -4] + str(vel4) + '.mid'\n",
    "        # I write the velocity adjusted Mido object to a new folder of computer performance files\n",
    "        clip.save(filename = f'HumComp/HumComp_QUANT/Computer/{new_name}')\n",
    "\n",
    "\n",
    "    # Using the file_count variable I can print a progress note\n",
    "    file_count += 1\n",
    "    print(f'Processed {file_count} files. Type1: {vel1}, Type2: {vel2}, Type3: {vel3}, Type4: {vel4}.', end = '\\r')\n",
    "\n",
    "# Completion note\n",
    "print('\\nDone')"
   ]
  },
  {
   "cell_type": "markdown",
   "metadata": {},
   "source": [
    "<p style='text-align: right;'> <b> Next Step: </b> Convert All MIDI Files to NP Array - <em> Array_Converter.ipynb </em> </p>"
   ]
  }
 ],
 "metadata": {
  "kernelspec": {
   "display_name": "Python [conda env:bs_capstone]",
   "language": "python",
   "name": "conda-env-bs_capstone-py"
  },
  "language_info": {
   "codemirror_mode": {
    "name": "ipython",
    "version": 3
   },
   "file_extension": ".py",
   "mimetype": "text/x-python",
   "name": "python",
   "nbconvert_exporter": "python",
   "pygments_lexer": "ipython3",
   "version": "3.7.8"
  }
 },
 "nbformat": 4,
 "nbformat_minor": 4
}
