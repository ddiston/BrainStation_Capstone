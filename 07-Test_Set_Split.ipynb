{
 "cells": [
  {
   "cell_type": "markdown",
   "metadata": {},
   "source": [
    "*Test_Set_Split.ipynb* <p style='text-align: right;'> <b> September 20th 2020 </b> </p>\n",
    "<p style='text-align: right;'> <b> David Diston </b> </p>"
   ]
  },
  {
   "cell_type": "markdown",
   "metadata": {},
   "source": [
    "# Create Testing and Validation Sets"
   ]
  },
  {
   "cell_type": "markdown",
   "metadata": {},
   "source": [
    "***Here I will split out 10% of the dataset for validation and 10% for testing, leaving 80% for training***\n",
    "\n",
    "As will be explained further in the next step of my data preprocessing, there is a substantial risk of data leakage, and therefore overfitting of the model in this project. This will be due to randomly sampling arrays of 100 row-length from the longer arrays that have been created for each piece. This is a major issue of course for the test set, but I believe also for the validation set. I do not want the model validating on identical data that it has already seen in training. For this reason, I will also be splitting out the validation set prior to this sampling process in an attempt to reduce any bias that may be introduced as a result of this random sampling."
   ]
  },
  {
   "cell_type": "code",
   "execution_count": 1,
   "metadata": {},
   "outputs": [],
   "source": [
    "# As usual, import the required libraries\n",
    "import os\n",
    "import random\n",
    "import shutil"
   ]
  },
  {
   "cell_type": "code",
   "execution_count": 2,
   "metadata": {},
   "outputs": [
    {
     "name": "stdout",
     "output_type": "stream",
     "text": [
      "Moved 824 arrays into the test set.n set.\n",
      "Done\n"
     ]
    }
   ],
   "source": [
    "# Instantiate a counting variable\n",
    "files_moved = 0\n",
    "\n",
    "# I will iterate over each folder (Humand/Computer) within the directory\n",
    "for folder in os.listdir('HumComp/HumComp_Array/'):\n",
    "    \n",
    "    # Here I will count the number of files in the folder, and identify 10% of that number\n",
    "    num_files = len(os.listdir(f'HumComp/HumComp_Array/{folder}/'))\n",
    "    num_files_test = int(num_files / 10) # Used for selecting 10% of data\n",
    "    \n",
    "    # For 10% of the files in the folder, I will randomly select and move this 10% to the validation folder\n",
    "    for i in range (0, num_files_test):\n",
    "        file = random.choice(os.listdir(f'HumComp/HumComp_Array/{folder}/'))\n",
    "        shutil.move(f'HumComp/HumComp_Array/{folder}/{file}', f'HumComp/HumComp_Validation_Set_Arrays/{folder}/{file}')\n",
    "        \n",
    "        files_moved += 1    \n",
    "        print(f'Moved {files_moved} arrays into the validation set.           ', end = '\\r')\n",
    "        \n",
    "    # For 10% of the files in the folder, I will randomly select and move this 10% to the test folder\n",
    "    for i in range (0, num_files_test):\n",
    "        file = random.choice(os.listdir(f'HumComp/HumComp_Array/{folder}/'))\n",
    "        shutil.move(f'HumComp/HumComp_Array/{folder}/{file}', f'HumComp/HumComp_Test_Set_Arrays/{folder}/{file}')\n",
    "\n",
    "        files_moved += 1    \n",
    "        print(f'Moved {files_moved} arrays into the test set.            ', end = '\\r')\n",
    "        \n",
    "print('\\nDone')"
   ]
  },
  {
   "cell_type": "markdown",
   "metadata": {},
   "source": [
    "<p style='text-align: right;'> <b> Next Step: </b> Create the Dataset by Sampling Each Array - <em> 07-Array_Sampler.ipynb </em> </p>"
   ]
  }
 ],
 "metadata": {
  "kernelspec": {
   "display_name": "Python [conda env:bs_capstone]",
   "language": "python",
   "name": "conda-env-bs_capstone-py"
  },
  "language_info": {
   "codemirror_mode": {
    "name": "ipython",
    "version": 3
   },
   "file_extension": ".py",
   "mimetype": "text/x-python",
   "name": "python",
   "nbconvert_exporter": "python",
   "pygments_lexer": "ipython3",
   "version": "3.7.8"
  }
 },
 "nbformat": 4,
 "nbformat_minor": 4
}
