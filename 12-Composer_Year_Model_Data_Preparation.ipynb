{
 "cells": [
  {
   "cell_type": "markdown",
   "metadata": {},
   "source": [
    "*Composer_Year_Model_Data_Preparation.ipynb* <p style='text-align: right;'> <b> September 20th 2020 </b> </p>\n",
    "<p style='text-align: right;'> <b> David Diston </b> </p>"
   ]
  },
  {
   "cell_type": "markdown",
   "metadata": {},
   "source": [
    "# Preprocess Data Required to Build a Composer  Century Classifier"
   ]
  },
  {
   "cell_type": "markdown",
   "metadata": {},
   "source": [
    "***Similar data preprocessing will now need to be performed to prepare data for this model. This is the exact data proprocessing code used for the previous model, with only directory and folder names changed. Therefore less in-depth commenting will take place. If any confusion occurs, please refer back to `10-Composer_Model_Data_Preparation.ipynb` for clarification***\n",
    "\n",
    "From external research, I have determined the birth and death dates of each of the top 10 composers. Outside of python I have moved the pertinent composer files to the correct folder within the new `Composer_Year` directory in order to begin the data proprocessing. Again, for this model a quantization value of '4' (bin to nearest 16th note) will be used."
   ]
  },
  {
   "cell_type": "code",
   "execution_count": 1,
   "metadata": {},
   "outputs": [],
   "source": [
    "import numpy as np\n",
    "import mido\n",
    "from mido import MidiFile, MidiTrack, Message, MetaMessage\n",
    "import os\n",
    "import random\n",
    "import shutil"
   ]
  },
  {
   "cell_type": "markdown",
   "metadata": {},
   "source": [
    "#### Step One: Binning Music to Nearest 16th Note"
   ]
  },
  {
   "cell_type": "code",
   "execution_count": 2,
   "metadata": {},
   "outputs": [
    {
     "name": "stdout",
     "output_type": "stream",
     "text": [
      "Processed 1907 files.\n",
      "Done\n"
     ]
    }
   ],
   "source": [
    "'''********************************************'''\n",
    "quantization = 4\n",
    "'''********************************************'''\n",
    "\n",
    "# Create a count of all files processed\n",
    "file_count = 0\n",
    "\n",
    "# I will iterate over all year folders in the directory\n",
    "for folder in os.listdir('Composer_Year/Composer_Year/'):\n",
    "\n",
    "    # For every year folder I will iterate over every file in the folder\n",
    "    for file in os.listdir(f'Composer_Year/Composer_Year/{folder}/'):\n",
    "\n",
    "        # I will import each file as a mido object\n",
    "        clip = MidiFile(f'Composer_Year/Composer_Year/{folder}/{file}')\n",
    "\n",
    "        # Find the number of time tick per quantization\n",
    "        ticks_per_quant = int(clip.ticks_per_beat / quantization)\n",
    "        # This warning prevents over-quantization\n",
    "        assert clip.ticks_per_beat % quantization == 0, 'ERROR: Quantization if too Fine.'\n",
    "\n",
    "        # Time and binning counting variables\n",
    "        cum_time = 0\n",
    "        btw_note = 0\n",
    "\n",
    "        # Iterate over each message to find the first note message\n",
    "        for note_msgs, msg in enumerate(clip.tracks[0]):\n",
    "            if msg.type == 'note_on':\n",
    "                break\n",
    "\n",
    "        # The bin switching variable\n",
    "        switch = False\n",
    "\n",
    "        # Again iterate over each message starting with the first note message\n",
    "        for msg in clip.tracks[0][note_msgs:]:\n",
    "\n",
    "            # Add the message time delta to the current time\n",
    "            cum_time += msg.time\n",
    "\n",
    "            # Bin each message to the appropriate quantization bin\n",
    "            if (cum_time % ticks_per_quant) <= (ticks_per_quant * 0.5):\n",
    "                msg.time = 0\n",
    "                switch = False\n",
    "\n",
    "            elif (cum_time % ticks_per_quant) > (ticks_per_quant * 0.5) and switch == False:\n",
    "                msg.time = int(ticks_per_quant)\n",
    "                switch = True\n",
    "\n",
    "            elif (msg.type == 'note_on'):\n",
    "                msg.time = 0\n",
    "\n",
    "        # Reset the tempo of the piece based on the quantization adjustment\n",
    "        for msg in clip.tracks[0][note_msgs:]:\n",
    "            msg.time = int(msg.time * (quantization / 4))\n",
    "\n",
    "        # Ensure that all zero time deltas are integers\n",
    "        for msg in clip.tracks[0][note_msgs:]:\n",
    "            if msg.time < int((ticks_per_quant) * (quantization / 4) - 1):\n",
    "                msg.time = int(0)\n",
    "\n",
    "        # Save the new quantized midi file\n",
    "        name = f'Year--{folder}--' + str(file_count) + file\n",
    "        clip.save(filename = f'Composer_Year/Composer_Year_QUANT/{folder}/{name}')\n",
    "\n",
    "        file_count += 1    \n",
    "        print(f'Processed {file_count} files.', end = '\\r')\n",
    "    \n",
    "print('\\nDone')"
   ]
  },
  {
   "cell_type": "markdown",
   "metadata": {},
   "source": [
    "#### Step Two: Converting Quantized Midi File to Arrays"
   ]
  },
  {
   "cell_type": "code",
   "execution_count": 3,
   "metadata": {},
   "outputs": [
    {
     "name": "stdout",
     "output_type": "stream",
     "text": [
      "Processed 1907 arrays.\n",
      "Done\n"
     ]
    }
   ],
   "source": [
    "# By the same process as before I will create an array from the quantized midi files\n",
    "file_count = 0\n",
    "\n",
    "# Iterate over each year folder\n",
    "for folder in os.listdir('Composer_Year/Composer_Year_QUANT/'):\n",
    "\n",
    "    # Iterate over each quantized midi file\n",
    "    for file in os.listdir(f'Composer_Year/Composer_Year_QUANT/{folder}'):\n",
    "\n",
    "        # Import the midi file as a mido object\n",
    "        clip = MidiFile(f'Composer_Year/Composer_Year_QUANT/{folder}/{file}')\n",
    "\n",
    "        # Find the first note message\n",
    "        for note_msgs, msg in enumerate(clip.tracks[0]):\n",
    "            if msg.type == 'note_on':\n",
    "                break\n",
    "\n",
    "        # Instantiate my track list and my time_step list\n",
    "        track_list = []\n",
    "        time_step = [0] * 88\n",
    "        \n",
    "        # For each message append the note velocity at the note index within each binned time step\n",
    "        for msg in clip.tracks[0][note_msgs:]:\n",
    "            if (msg.type != 'note_on') and (msg.type != 'note_off') and (msg.time > 0):  \n",
    "                track_list.append(time_step)\n",
    "                time_step = [0] * 88\n",
    "            elif (msg.type == 'note_on' or msg.type == 'note_off') and (msg.time > 0):\n",
    "                track_list.append(time_step)\n",
    "                time_step = [0] *88\n",
    "                note = (msg.note - 21)\n",
    "                time_step[note] = msg.velocity\n",
    "            elif (msg.type == 'note_on' or msg.type == 'note_off') and (msg.time == 0):\n",
    "                note = (msg.note - 21)\n",
    "                time_step[note] = msg.velocity\n",
    "\n",
    "        # Append any remaining partial bin\n",
    "        if sum(time_step) > 0:\n",
    "            track_list.append(time_step)\n",
    "        else:\n",
    "            pass\n",
    "\n",
    "        # Convert the track list to an array and save\n",
    "        track_array = np.array(track_list)\n",
    "        name = file[: -4] + '.npy'\n",
    "        np.save(f'Composer_Year/Composer_Year_Array/{folder}/{name}', track_array)\n",
    "\n",
    "        file_count += 1    \n",
    "        print(f'Processed {file_count} arrays.', end = '\\r')\n",
    "        \n",
    "print('\\nDone')"
   ]
  },
  {
   "cell_type": "markdown",
   "metadata": {},
   "source": [
    "#### Step Three: Split out the Validation and Test Sets"
   ]
  },
  {
   "cell_type": "code",
   "execution_count": 4,
   "metadata": {},
   "outputs": [
    {
     "name": "stdout",
     "output_type": "stream",
     "text": [
      "Moved 380 arrays into the test set.                         \n",
      "Done\n"
     ]
    }
   ],
   "source": [
    "# To prevent data leakage in the random sampling, I will split out the validation and test sets\n",
    "files_moved = 0\n",
    "\n",
    "for folder in os.listdir('Composer_Year/Composer_Year_Array/'):\n",
    "    \n",
    "    # Calculate 10% of the files in each year folder\n",
    "    num_files = len(os.listdir(f'Composer_Year/Composer_Year_Array/{folder}/'))\n",
    "    num_files_test = int(num_files / 10) # Used for selecting 10% of data\n",
    "    \n",
    "    # Randomly select 10% of the files from each year folder to move into the validation and test folders\n",
    "    for i in range (0, num_files_test):\n",
    "        file = random.choice(os.listdir(f'Composer_Year/Composer_Year_Array/{folder}/'))\n",
    "        shutil.move(f'Composer_Year/Composer_Year_Array/{folder}/{file}', f'Composer_Year/Composer_Year_Validation_Set_Arrays/{folder}/{file}')\n",
    "        \n",
    "        files_moved += 1    \n",
    "        print(f'Moved {files_moved} arrays into the validation set.                 ', end = '\\r')\n",
    "        \n",
    "    for i in range (0, num_files_test):\n",
    "        file = random.choice(os.listdir(f'Composer_Year/Composer_Year_Array/{folder}/'))\n",
    "        shutil.move(f'Composer_Year/Composer_Year_Array/{folder}/{file}', f'Composer_Year/Composer_Year_Test_Set_Arrays/{folder}/{file}')\n",
    "        \n",
    "        files_moved += 1    \n",
    "        print(f'Moved {files_moved} arrays into the test set.                         ', end = '\\r')\n",
    "        \n",
    "print('\\nDone')"
   ]
  },
  {
   "cell_type": "markdown",
   "metadata": {},
   "source": [
    "#### Step Four: Sampling"
   ]
  },
  {
   "cell_type": "markdown",
   "metadata": {},
   "source": [
    "#### Training Set Sampling"
   ]
  },
  {
   "cell_type": "code",
   "execution_count": 5,
   "metadata": {},
   "outputs": [
    {
     "name": "stdout",
     "output_type": "stream",
     "text": [
      "Processed 15000 array clips.\n",
      "Done\n"
     ]
    }
   ],
   "source": [
    "# For each year in the training set, create 5,000 array clip samples from the arrays in the folders\n",
    "# This will be a total of 15,000 array clips for the three centuries combined\n",
    "count = 0\n",
    "\n",
    "for folder in os.listdir('Composer_Year/Composer_Year_Array/'):\n",
    "\n",
    "    for i in range(0, 5000):\n",
    "        file = random.choice(os.listdir(f'Composer_Year/Composer_Year_Array/{folder}/'))\n",
    "        name = ''\n",
    "        # Load each array\n",
    "        array = np.load(f'Composer_Year/Composer_Year_Array/{folder}/{file}')\n",
    "\n",
    "        # I will randomly select a 100 length sample from each array for modeling\n",
    "        length = (len(array) - 100)\n",
    "        start = random.randint(0, length)\n",
    "        end = start + 100\n",
    "        array = array[start: end]\n",
    "\n",
    "        # I will create a new file name and save the array clip\n",
    "        name = 'CLIP--' + str(count) + '--' + file\n",
    "        np.save(f'Composer_Year/Composer_Year_Data/{folder}/{name}', array)\n",
    "\n",
    "        count += 1    \n",
    "        print(f'Processed {count} array clips.', end = '\\r')\n",
    "        \n",
    "print('\\nDone')"
   ]
  },
  {
   "cell_type": "markdown",
   "metadata": {},
   "source": [
    "#### Test Set Sampling"
   ]
  },
  {
   "cell_type": "code",
   "execution_count": 6,
   "metadata": {},
   "outputs": [
    {
     "name": "stdout",
     "output_type": "stream",
     "text": [
      "Processed 1500 array clips.\n",
      "Done\n"
     ]
    }
   ],
   "source": [
    "# For each year I will create 500 test array clips\n",
    "count = 0\n",
    "\n",
    "for folder in os.listdir('Composer_Year/Composer_Year_Test_Set_Arrays/'):\n",
    "\n",
    "    for i in range(0, 500):\n",
    "        file = random.choice(os.listdir(f'Composer_Year/Composer_Year_Test_Set_Arrays/{folder}/'))\n",
    "        name = ''\n",
    "        # Load each array\n",
    "        array = np.load(f'Composer_Year/Composer_Year_Test_Set_Arrays/{folder}/{file}')\n",
    "\n",
    "        # I will randomly select a 100 length sample from each array for modeling\n",
    "        length = (len(array) - 100)\n",
    "        start = random.randint(0, length)\n",
    "        end = start + 100\n",
    "        array = array[start: end]\n",
    "\n",
    "        # I will create a new file name and save the array clip\n",
    "        name = 'TEST_CLIP--' + str(count) + '--' + file\n",
    "        np.save(f'Composer_Year/Composer_Year_Test_Set_Data/{folder}/{name}', array)\n",
    "\n",
    "        count += 1    \n",
    "        print(f'Processed {count} array clips.', end = '\\r')\n",
    "        \n",
    "print('\\nDone')"
   ]
  },
  {
   "cell_type": "markdown",
   "metadata": {},
   "source": [
    "#### Validation Set Sampling"
   ]
  },
  {
   "cell_type": "code",
   "execution_count": 7,
   "metadata": {},
   "outputs": [
    {
     "name": "stdout",
     "output_type": "stream",
     "text": [
      "Processed 1500 array clips.\n",
      "Done\n"
     ]
    }
   ],
   "source": [
    "# For each year I will create 500 validation array clips\n",
    "count = 0\n",
    "\n",
    "for folder in os.listdir('Composer_Year/Composer_Year_Validation_Set_Arrays/'):\n",
    "\n",
    "    for i in range(0, 500):\n",
    "        file = random.choice(os.listdir(f'Composer_Year/Composer_Year_Validation_Set_Arrays/{folder}/'))\n",
    "        name = ''\n",
    "        # Load each array\n",
    "        array = np.load(f'Composer_Year/Composer_Year_Validation_Set_Arrays/{folder}/{file}')\n",
    "\n",
    "        # I will randomly select a 100 length sample from each array for modeling\n",
    "        length = (len(array) - 100)\n",
    "        start = random.randint(0, length)\n",
    "        end = start + 100\n",
    "        array = array[start: end]\n",
    "\n",
    "        # I will create a new file name and save the array clip\n",
    "        name = 'VAL_CLIP--' + str(count) + '--' + file\n",
    "        np.save(f'Composer_Year/Composer_Year_Validation_Set_Data/{folder}/{name}', array)\n",
    "\n",
    "        count += 1    \n",
    "        print(f'Processed {count} array clips.', end = '\\r')\n",
    "        \n",
    "print('\\nDone')"
   ]
  },
  {
   "cell_type": "markdown",
   "metadata": {},
   "source": [
    "I have now completed all my required data preprocessing in order to build and train my new century classification model."
   ]
  },
  {
   "cell_type": "markdown",
   "metadata": {},
   "source": [
    "<p style='text-align: right;'> <b> Next Step: </b> Build RNN for Century Classification - <em> RNN_Model_Years.ipynb </em> </p>"
   ]
  }
 ],
 "metadata": {
  "kernelspec": {
   "display_name": "Python 3",
   "language": "python",
   "name": "python3"
  },
  "language_info": {
   "codemirror_mode": {
    "name": "ipython",
    "version": 3
   },
   "file_extension": ".py",
   "mimetype": "text/x-python",
   "name": "python",
   "nbconvert_exporter": "python",
   "pygments_lexer": "ipython3",
   "version": "3.8.3"
  }
 },
 "nbformat": 4,
 "nbformat_minor": 4
}
