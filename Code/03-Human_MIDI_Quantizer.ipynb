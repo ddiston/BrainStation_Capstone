{
 "cells": [
  {
   "cell_type": "markdown",
   "metadata": {},
   "source": [
    "*Human_MIDI_Quantizer.ipynb* <p style='text-align: right;'> <b> September 20th 2020 </b> </p>\n",
    "<p style='text-align: right;'> <b> David Diston </b> </p>"
   ]
  },
  {
   "cell_type": "markdown",
   "metadata": {},
   "source": [
    "# Quantize Note Timings for Human Performance Midi Files"
   ]
  },
  {
   "cell_type": "markdown",
   "metadata": {},
   "source": [
    "***These files will be used when training a model to classify Human Performances and Computer Generated Performances***\n",
    "\n",
    "This code will sort through each Midi file in the project `Raw_Midi` folder:\n",
    "1. Each file will be copied and processed to bin all note timings\n",
    "2. Quantization for Computer Performances results in binning to the nearest 32th note (quantization = 8)\n",
    "    * All pieces processed are in 4/4 time\n",
    "    * Therefore Quantization should be equal to 1, or x where x = $2^{y}$ and where y is a whole number\n",
    "3. Each processed file copy will be saved as a new 'Human Quantized Midi' file in the `Human_Performance_Midi` folder"
   ]
  },
  {
   "cell_type": "code",
   "execution_count": 1,
   "metadata": {},
   "outputs": [],
   "source": [
    "import mido\n",
    "from mido import MidiFile, MidiTrack, Message, MetaMessage\n",
    "import os"
   ]
  },
  {
   "cell_type": "code",
   "execution_count": 2,
   "metadata": {},
   "outputs": [
    {
     "name": "stdout",
     "output_type": "stream",
     "text": [
      "Processed 2583 files.\n",
      "Done\n"
     ]
    }
   ],
   "source": [
    "'''********************************************'''\n",
    "quantization = 8\n",
    "'''********************************************'''\n",
    "\n",
    "# Create a count of all files processed\n",
    "file_count = 0\n",
    "\n",
    "# I will iterate over all performance files in Raw_Midi\n",
    "\n",
    "for file in os.listdir('Raw_Midi/'):\n",
    "\n",
    "    clip = MidiFile(f'Raw_Midi/{file}')\n",
    "\n",
    "    # Using the quantization value, I can calculate the time ticks per beat quantization\n",
    "    ticks_per_quant = int(clip.ticks_per_beat / quantization)\n",
    "    # Attempting to quantize to a finer scale than the music is encoded with cause an error\n",
    "    assert clip.ticks_per_beat % quantization == 0, 'ERROR: Quantization if too Fine.'\n",
    "\n",
    "    # Counting variables\n",
    "    cum_time = 0\n",
    "    btw_note = 0\n",
    "\n",
    "    # This loop will return the message number of the first note_on message\n",
    "    for note_msgs, msg in enumerate(clip.tracks[0]):\n",
    "        if msg.type == 'note_on':\n",
    "            break\n",
    "\n",
    "    # This variable will identify the note that switched from one quantization bin to the next\n",
    "    switch = False\n",
    "\n",
    "    # Here I will iterate over all messages starting with the first note_on message found above \n",
    "    for msg in clip.tracks[0][note_msgs:]:\n",
    "\n",
    "        # All times are time deltas, so I will create a cumulative time variable\n",
    "        cum_time += msg.time\n",
    "\n",
    "        # Here I am using the time ticks per quantum and the cumulative time to bin each note\n",
    "        '''\n",
    "        If the remainder of cum_time/ticks_per_quant is less than 75% of the distance from one quantization \n",
    "        to the next, then the note is binned with a time delta of 0 (back to the previous beat).\n",
    "        If the remainder is greater than 75% and switch is false, then the message time delta will be set\n",
    "        to the number of ticks per quant (bin size), and switch will be set to true (binned to the next beat).\n",
    "        The switch variable will ensure that only the first note of all notes falling between > 75% of\n",
    "        a quantum, and the next quantum will be coded with the new quantum time.\n",
    "        Once the new quantum time delta has been established, all other note_on messages will be binned\n",
    "        with a time delta of zero.\n",
    "        '''\n",
    "        if (cum_time % ticks_per_quant) <= (ticks_per_quant * 0.75):\n",
    "            msg.time = 0\n",
    "            switch = False\n",
    "\n",
    "        elif (cum_time % ticks_per_quant) > (ticks_per_quant * 0.75) and switch == False:\n",
    "            msg.time = int(ticks_per_quant)\n",
    "            switch = True\n",
    "\n",
    "        elif (msg.type == 'note_on'):\n",
    "            msg.time = 0\n",
    "\n",
    "    # Since time deltas have been changed as a function of the quantization, the time must be ajusted\n",
    "    # to maintain the original tempo\n",
    "    for msg in clip.tracks[0][note_msgs:]:\n",
    "        msg.time = int(msg.time * (quantization / 4))\n",
    "\n",
    "    # Before saving, I want to make sure that all times less than the quantization time are set to an\n",
    "    # integer value of zero\n",
    "    # This will also bin all note_off messages back to the nearest bin (32nd note)\n",
    "    for msg in clip.tracks[0][note_msgs:]:\n",
    "        if msg.time < int((ticks_per_quant) * (quantization / 4) - 1):\n",
    "            msg.time = int(0)\n",
    "\n",
    "    # I will save the new quantized midi file\n",
    "    clip.save(filename = f'HumComp/HumComp_QUANT/Human/{file}')\n",
    "    \n",
    "    file_count += 1    \n",
    "    print(f'Processed {file_count} files.', end = '\\r')\n",
    "    \n",
    "print('\\nDone')"
   ]
  },
  {
   "cell_type": "markdown",
   "metadata": {},
   "source": [
    "<p style='text-align: right;'> <b> Next Step: </b> Quantize Computer Performance Midi Files - <em> Computer_MIDI_Quantizer.ipynb </em> </p>"
   ]
  }
 ],
 "metadata": {
  "kernelspec": {
   "display_name": "Python [conda env:bs_capstone]",
   "language": "python",
   "name": "conda-env-bs_capstone-py"
  },
  "language_info": {
   "codemirror_mode": {
    "name": "ipython",
    "version": 3
   },
   "file_extension": ".py",
   "mimetype": "text/x-python",
   "name": "python",
   "nbconvert_exporter": "python",
   "pygments_lexer": "ipython3",
   "version": "3.7.8"
  }
 },
 "nbformat": 4,
 "nbformat_minor": 4
}
