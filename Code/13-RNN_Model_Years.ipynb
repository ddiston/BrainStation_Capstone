{
 "cells": [
  {
   "cell_type": "markdown",
   "metadata": {},
   "source": [
    "*RNN_Model_Years.ipynb* <p style='text-align: right;'> <b> September 20th 2020 </b> </p>\n",
    "<p style='text-align: right;'> <b> David Diston </b> </p>"
   ]
  },
  {
   "cell_type": "markdown",
   "metadata": {},
   "source": [
    "# Build an LSTM RNN to Classify the Century when a Piece was Composed"
   ]
  },
  {
   "cell_type": "markdown",
   "metadata": {},
   "source": [
    "***Once again, trial-and-error tuning was performed when developing this model. The final model iteration is shown here***\n",
    "\n",
    "The architecture for this model is constructed in the same way as the Composer Classification model, with the exception being the output layer, where now there are 3 output nodes corresponding to the 3 classes (1700, 1800, 1900). The composers in these bins are the 10 composers from the last model. They have been binned based on their birth and death years. Where a composers lifespan crosses a century marker, the century in which he or she lived longest was used for binning (for example: 1892-1950 would be binned as 1900).\n",
    "\n",
    "As with the data preprocessing notebook, this model notebook follows the same structure as the last model notebook. Therefore, the explainatory commenting will be lower in quantity and focus on differences between these notebooks. If further clarification is required please refer to the `11-RNN_Model_Composers.ipynb` notebook."
   ]
  },
  {
   "cell_type": "code",
   "execution_count": 1,
   "metadata": {},
   "outputs": [],
   "source": [
    "import numpy as np\n",
    "import os\n",
    "import tensorflow\n",
    "import random\n",
    "\n",
    "from tensorflow import keras\n",
    "from tensorflow.keras.models import Sequential\n",
    "from tensorflow.keras.layers import Dense, Dropout, LSTM\n",
    "from tensorflow.keras.optimizers import Adam\n",
    "from tensorflow.keras.callbacks import ModelCheckpoint"
   ]
  },
  {
   "cell_type": "code",
   "execution_count": 2,
   "metadata": {},
   "outputs": [],
   "source": [
    "# This is the same data import function I have used for the past two models\n",
    "def training_set(cat, datdir):\n",
    "    for category in cat:\n",
    "        path = os.path.join(datdir, category)\n",
    "        class_num = categories.index(category)\n",
    "        for array in os.listdir(path):\n",
    "            try:\n",
    "                midi_array = np.load(os.path.join(path, array))\n",
    "                training_data.append([midi_array, class_num])\n",
    "            except Exception as e:\n",
    "                pass"
   ]
  },
  {
   "cell_type": "code",
   "execution_count": 3,
   "metadata": {},
   "outputs": [],
   "source": [
    "# Load Training Data\n",
    "datadirectory = 'C:/Users/David Diston/Documents/CapstonePythonScripts/Composer_Year/Composer_Year_Data'\n",
    "categories = ['1700', '1800', '1900']\n",
    "\n",
    "training_data = []\n",
    "\n",
    "# Load using above function\n",
    "training_set(categories, datadirectory)\n",
    "\n",
    "random.shuffle(training_data)\n",
    "\n",
    "X = []\n",
    "y = []\n",
    "\n",
    "# Append data to the appropriate variable\n",
    "for features, label in training_data:\n",
    "    X.append(features)\n",
    "    y.append(label)"
   ]
  },
  {
   "cell_type": "code",
   "execution_count": 4,
   "metadata": {},
   "outputs": [],
   "source": [
    "# Load Validation Data\n",
    "datadirectory = 'C:/Users/David Diston/Documents/CapstonePythonScripts/Composer_Year/Composer_Year_Validation_Set_Data'\n",
    "categories = ['1700', '1800', '1900']\n",
    "    \n",
    "training_data = []\n",
    "    \n",
    "training_set(categories, datadirectory)\n",
    "\n",
    "random.shuffle(training_data)\n",
    "\n",
    "X_val = []\n",
    "y_val = []\n",
    "\n",
    "for features, label in training_data:\n",
    "    X_val.append(features)\n",
    "    y_val.append(label)"
   ]
  },
  {
   "cell_type": "code",
   "execution_count": 5,
   "metadata": {},
   "outputs": [],
   "source": [
    "# Convert to array and transform\n",
    "X_train = np.array(X).reshape(-1, 100, 88)\n",
    "y_train = np.array(y)\n",
    "X_val = np.array(X_val).reshape(-1, 100, 88)\n",
    "y_val = np.array(y_val)\n",
    "\n",
    "# Normalize the data\n",
    "X_train = X_train / 127\n",
    "X_val = X_val / 127"
   ]
  },
  {
   "cell_type": "code",
   "execution_count": 6,
   "metadata": {},
   "outputs": [],
   "source": [
    "# Build the model\n",
    "Century_model = Sequential()\n",
    "\n",
    "# Again 44 input nodes was found to be most optimal, with 2 hidden layers\n",
    "Century_model.add(LSTM(44, input_shape = (X_train.shape[1:]), activation = 'relu', return_sequences = True))\n",
    "Century_model.add(Dropout(0.1))\n",
    "\n",
    "Century_model.add(LSTM(44, activation='relu'))\n",
    "Century_model.add(Dropout(0.1))\n",
    "\n",
    "Century_model.add(Dense(1408, activation='relu'))\n",
    "Century_model.add(Dropout(0.1))\n",
    "\n",
    "# The model now has 3 output nodes for the three century classes\n",
    "Century_model.add(Dense(3, activation='softmax'))"
   ]
  },
  {
   "cell_type": "code",
   "execution_count": 7,
   "metadata": {},
   "outputs": [
    {
     "name": "stdout",
     "output_type": "stream",
     "text": [
      "Model: \"sequential\"\n",
      "_________________________________________________________________\n",
      "Layer (type)                 Output Shape              Param #   \n",
      "=================================================================\n",
      "lstm (LSTM)                  (None, 100, 44)           23408     \n",
      "_________________________________________________________________\n",
      "dropout (Dropout)            (None, 100, 44)           0         \n",
      "_________________________________________________________________\n",
      "lstm_1 (LSTM)                (None, 44)                15664     \n",
      "_________________________________________________________________\n",
      "dropout_1 (Dropout)          (None, 44)                0         \n",
      "_________________________________________________________________\n",
      "dense (Dense)                (None, 1408)              63360     \n",
      "_________________________________________________________________\n",
      "dropout_2 (Dropout)          (None, 1408)              0         \n",
      "_________________________________________________________________\n",
      "dense_1 (Dense)              (None, 3)                 4227      \n",
      "=================================================================\n",
      "Total params: 106,659\n",
      "Trainable params: 106,659\n",
      "Non-trainable params: 0\n",
      "_________________________________________________________________\n"
     ]
    }
   ],
   "source": [
    "# The same optimizer will be used and will again account for any gradient explosion\n",
    "opt = Adam(lr = 0.001, decay = 0.00001, clipvalue=0.5)\n",
    "\n",
    "# Compile the model with the loss, optimizer, and metrics\n",
    "Century_model.compile(\n",
    "    loss='sparse_categorical_crossentropy',\n",
    "    optimizer = opt,\n",
    "    metrics=['accuracy'])\n",
    "\n",
    "# Confirm with a model summary that everything looks correct before training\n",
    "Century_model.summary()"
   ]
  },
  {
   "cell_type": "code",
   "execution_count": 8,
   "metadata": {},
   "outputs": [
    {
     "name": "stdout",
     "output_type": "stream",
     "text": [
      "Epoch 1/20\n",
      "299/300 [============================>.] - ETA: 0s - loss: 1.1842 - accuracy: 0.4245\n",
      "Epoch 00001: val_accuracy improved from -inf to 0.48867, saving model to Models/Century_model.hdf5\n",
      "300/300 [==============================] - 11s 36ms/step - loss: 1.1834 - accuracy: 0.4250 - val_loss: 1.0051 - val_accuracy: 0.4887\n",
      "Epoch 2/20\n",
      "299/300 [============================>.] - ETA: 0s - loss: 1.0208 - accuracy: 0.4720\n",
      "Epoch 00002: val_accuracy improved from 0.48867 to 0.50267, saving model to Models/Century_model.hdf5\n",
      "300/300 [==============================] - 11s 35ms/step - loss: 1.0207 - accuracy: 0.4721 - val_loss: 0.9707 - val_accuracy: 0.5027\n",
      "Epoch 3/20\n",
      "299/300 [============================>.] - ETA: 0s - loss: 0.9921 - accuracy: 0.5174\n",
      "Epoch 00003: val_accuracy did not improve from 0.50267\n",
      "300/300 [==============================] - 11s 35ms/step - loss: 0.9921 - accuracy: 0.5173 - val_loss: 0.9991 - val_accuracy: 0.4887\n",
      "Epoch 4/20\n",
      "299/300 [============================>.] - ETA: 0s - loss: 0.8908 - accuracy: 0.5685\n",
      "Epoch 00004: val_accuracy improved from 0.50267 to 0.58400, saving model to Models/Century_model.hdf5\n",
      "300/300 [==============================] - 11s 35ms/step - loss: 0.8907 - accuracy: 0.5686 - val_loss: 0.8919 - val_accuracy: 0.5840\n",
      "Epoch 5/20\n",
      "299/300 [============================>.] - ETA: 0s - loss: 0.8220 - accuracy: 0.6126\n",
      "Epoch 00005: val_accuracy improved from 0.58400 to 0.63000, saving model to Models/Century_model.hdf5\n",
      "300/300 [==============================] - 11s 35ms/step - loss: 0.8216 - accuracy: 0.6131 - val_loss: 0.8066 - val_accuracy: 0.6300\n",
      "Epoch 6/20\n",
      "299/300 [============================>.] - ETA: 0s - loss: 0.7669 - accuracy: 0.6588\n",
      "Epoch 00006: val_accuracy improved from 0.63000 to 0.65867, saving model to Models/Century_model.hdf5\n",
      "300/300 [==============================] - 11s 35ms/step - loss: 0.7667 - accuracy: 0.6587 - val_loss: 0.7649 - val_accuracy: 0.6587\n",
      "Epoch 7/20\n",
      "299/300 [============================>.] - ETA: 0s - loss: 0.7100 - accuracy: 0.6983\n",
      "Epoch 00007: val_accuracy improved from 0.65867 to 0.66200, saving model to Models/Century_model.hdf5\n",
      "300/300 [==============================] - 11s 35ms/step - loss: 0.7102 - accuracy: 0.6981 - val_loss: 0.7762 - val_accuracy: 0.6620\n",
      "Epoch 8/20\n",
      "299/300 [============================>.] - ETA: 0s - loss: 0.6633 - accuracy: 0.7258\n",
      "Epoch 00008: val_accuracy improved from 0.66200 to 0.69000, saving model to Models/Century_model.hdf5\n",
      "300/300 [==============================] - 11s 35ms/step - loss: 0.6632 - accuracy: 0.7258 - val_loss: 0.7253 - val_accuracy: 0.6900\n",
      "Epoch 9/20\n",
      "299/300 [============================>.] - ETA: 0s - loss: 0.6075 - accuracy: 0.7514\n",
      "Epoch 00009: val_accuracy improved from 0.69000 to 0.73733, saving model to Models/Century_model.hdf5\n",
      "300/300 [==============================] - 11s 35ms/step - loss: 0.6072 - accuracy: 0.7515 - val_loss: 0.6465 - val_accuracy: 0.7373\n",
      "Epoch 10/20\n",
      "299/300 [============================>.] - ETA: 0s - loss: 0.5894 - accuracy: 0.7633\n",
      "Epoch 00010: val_accuracy did not improve from 0.73733\n",
      "300/300 [==============================] - 11s 35ms/step - loss: 0.5896 - accuracy: 0.7632 - val_loss: 0.6602 - val_accuracy: 0.7267\n",
      "Epoch 11/20\n",
      "299/300 [============================>.] - ETA: 0s - loss: 52956.2070 - accuracy: 0.7760\n",
      "Epoch 00011: val_accuracy improved from 0.73733 to 0.75067, saving model to Models/Century_model.hdf5\n",
      "300/300 [==============================] - 11s 35ms/step - loss: 52779.6875 - accuracy: 0.7759 - val_loss: 0.6098 - val_accuracy: 0.7507\n",
      "Epoch 12/20\n",
      "299/300 [============================>.] - ETA: 0s - loss: 0.5294 - accuracy: 0.7871\n",
      "Epoch 00012: val_accuracy improved from 0.75067 to 0.77133, saving model to Models/Century_model.hdf5\n",
      "300/300 [==============================] - 11s 35ms/step - loss: 0.5290 - accuracy: 0.7873 - val_loss: 0.5839 - val_accuracy: 0.7713\n",
      "Epoch 13/20\n",
      "299/300 [============================>.] - ETA: 0s - loss: 0.4873 - accuracy: 0.8064\n",
      "Epoch 00013: val_accuracy did not improve from 0.77133\n",
      "300/300 [==============================] - 11s 35ms/step - loss: 0.4875 - accuracy: 0.8061 - val_loss: 0.6433 - val_accuracy: 0.7420\n",
      "Epoch 14/20\n",
      "299/300 [============================>.] - ETA: 0s - loss: 0.4791 - accuracy: 0.8117\n",
      "Epoch 00014: val_accuracy improved from 0.77133 to 0.79000, saving model to Models/Century_model.hdf5\n",
      "300/300 [==============================] - 11s 35ms/step - loss: 0.4792 - accuracy: 0.8117 - val_loss: 0.5224 - val_accuracy: 0.7900\n",
      "Epoch 15/20\n",
      "299/300 [============================>.] - ETA: 0s - loss: 0.4433 - accuracy: 0.8263\n",
      "Epoch 00015: val_accuracy improved from 0.79000 to 0.81133, saving model to Models/Century_model.hdf5\n",
      "300/300 [==============================] - 11s 35ms/step - loss: 0.4430 - accuracy: 0.8265 - val_loss: 0.5115 - val_accuracy: 0.8113\n",
      "Epoch 16/20\n",
      "299/300 [============================>.] - ETA: 0s - loss: 0.4447 - accuracy: 0.8236\n",
      "Epoch 00016: val_accuracy did not improve from 0.81133\n",
      "300/300 [==============================] - 11s 35ms/step - loss: 0.4452 - accuracy: 0.8233 - val_loss: 0.6726 - val_accuracy: 0.7373\n",
      "Epoch 17/20\n",
      "299/300 [============================>.] - ETA: 0s - loss: 0.4099 - accuracy: 0.8406\n",
      "Epoch 00017: val_accuracy did not improve from 0.81133\n",
      "300/300 [==============================] - 11s 35ms/step - loss: 0.4100 - accuracy: 0.8405 - val_loss: 0.5134 - val_accuracy: 0.8087\n",
      "Epoch 18/20\n",
      "299/300 [============================>.] - ETA: 0s - loss: 0.3854 - accuracy: 0.8497\n",
      "Epoch 00018: val_accuracy did not improve from 0.81133\n",
      "300/300 [==============================] - 11s 35ms/step - loss: 0.3857 - accuracy: 0.8496 - val_loss: 0.5061 - val_accuracy: 0.8053\n",
      "Epoch 19/20\n",
      "299/300 [============================>.] - ETA: 0s - loss: 0.3741 - accuracy: 0.8582\n",
      "Epoch 00019: val_accuracy did not improve from 0.81133\n",
      "300/300 [==============================] - 11s 35ms/step - loss: 0.3747 - accuracy: 0.8579 - val_loss: 0.5162 - val_accuracy: 0.8047\n",
      "Epoch 20/20\n",
      "299/300 [============================>.] - ETA: 0s - loss: 1.0541 - accuracy: 0.8477\n",
      "Epoch 00020: val_accuracy did not improve from 0.81133\n",
      "300/300 [==============================] - 11s 35ms/step - loss: 1.0518 - accuracy: 0.8477 - val_loss: 0.5125 - val_accuracy: 0.8000\n"
     ]
    },
    {
     "data": {
      "text/plain": [
       "<tensorflow.python.keras.callbacks.History at 0x14742cfa048>"
      ]
     },
     "execution_count": 8,
     "metadata": {},
     "output_type": "execute_result"
    }
   ],
   "source": [
    "# Create a checkpoint to save the weights from the best performing epoch\n",
    "checkpoint = ModelCheckpoint('Models/Century_model.hdf5', monitor='val_accuracy', verbose=1, save_best_only=True, mode='max')\n",
    "callbacks_list = [checkpoint]\n",
    "\n",
    "# Fit  and train the model\n",
    "# It was found that training beyond 20 epoch did not significantly improve accuracy\n",
    "Century_model.fit(X_train, y_train,\n",
    "               batch_size = 50,\n",
    "               epochs = 20,\n",
    "               validation_data=(X_val, y_val),\n",
    "               callbacks=callbacks_list)"
   ]
  },
  {
   "cell_type": "code",
   "execution_count": 9,
   "metadata": {},
   "outputs": [
    {
     "name": "stdout",
     "output_type": "stream",
     "text": [
      "WARNING:tensorflow:From C:\\Users\\David Diston\\anaconda3\\envs\\bs_capstone\\lib\\site-packages\\tensorflow\\python\\ops\\resource_variable_ops.py:1817: calling BaseResourceVariable.__init__ (from tensorflow.python.ops.resource_variable_ops) with constraint is deprecated and will be removed in a future version.\n",
      "Instructions for updating:\n",
      "If using Keras pass *_constraint arguments to layers.\n",
      "INFO:tensorflow:Assets written to: Models/Century_model\\assets\n"
     ]
    }
   ],
   "source": [
    "# Save the complete model\n",
    "Century_model.save('Models/Century_model')"
   ]
  },
  {
   "cell_type": "markdown",
   "metadata": {},
   "source": [
    "#### Model Evaluation"
   ]
  },
  {
   "cell_type": "code",
   "execution_count": 10,
   "metadata": {},
   "outputs": [],
   "source": [
    "# Import libraries and metrics for model evaluation\n",
    "from sklearn.metrics import classification_report\n",
    "from sklearn.metrics import confusion_matrix\n",
    "import itertools\n",
    "import matplotlib.pyplot as plt"
   ]
  },
  {
   "cell_type": "code",
   "execution_count": 11,
   "metadata": {},
   "outputs": [],
   "source": [
    "# I will again use my plotting function to plot the confusion matrix from the model predictions\n",
    "def plot_confusion_matrix(cm, classes, cmap=plt.cm.Blues):\n",
    "\n",
    "    plt.imshow(cm, interpolation='nearest', cmap=cmap)\n",
    "    plt.colorbar()\n",
    "    tick_marks = np.arange(len(classes))\n",
    "    plt.xticks(tick_marks, classes, rotation=45)\n",
    "    plt.yticks(tick_marks, classes)\n",
    "\n",
    "    thresh = cm.max() / 2\n",
    "    for i, j in itertools.product(range(cm.shape[0]), range(cm.shape[1])):\n",
    "        plt.text(j, i, format(cm[i, j]),\n",
    "                 horizontalalignment=\"center\",\n",
    "                 color=\"white\" if cm[i, j] > thresh else \"black\")\n",
    "\n",
    "    plt.ylabel('True label')\n",
    "    plt.xlabel('Predicted label')\n",
    "    plt.tight_layout()"
   ]
  },
  {
   "cell_type": "code",
   "execution_count": 12,
   "metadata": {},
   "outputs": [],
   "source": [
    "# Load Test Data as I did above for the train and validation data\n",
    "datadirectory = 'C:/Users/David Diston/Documents/CapstonePythonScripts/Composer_Year/Composer_Year_Test_Set_Data'\n",
    "categories = ['1700', '1800', '1900']\n",
    "    \n",
    "training_data = []\n",
    "    \n",
    "training_set(categories, datadirectory)\n",
    "\n",
    "# Shuffling is not necessary here, but I do it anyway just for fun!\n",
    "random.shuffle(training_data)\n",
    "\n",
    "X_test = []\n",
    "y_test = []\n",
    "\n",
    "for features, label in training_data:\n",
    "    X_test.append(features)\n",
    "    y_test.append(label)\n",
    "\n",
    "# Convert to array and reshape\n",
    "X_test = np.array(X_test).reshape(-1, 100, 88)\n",
    "y_test = np.array(y_test)\n",
    "\n",
    "# Normalization\n",
    "X_test = X_test / 127"
   ]
  },
  {
   "cell_type": "code",
   "execution_count": 13,
   "metadata": {
    "scrolled": false
   },
   "outputs": [
    {
     "data": {
      "image/png": "[encoded data removed]",
      "text/plain": [
       "<Figure size 576x576 with 2 Axes>"
      ]
     },
     "metadata": {
      "needs_background": "light"
     },
     "output_type": "display_data"
    }
   ],
   "source": [
    "# I get the prediction results from the test set\n",
    "results = Century_model.predict(X_test, batch_size = 10)\n",
    "\n",
    "# Concert the class probabilities to class predictions\n",
    "predicted_classes = np.argmax(results, axis=1)\n",
    "\n",
    "# Names of predicted classes\n",
    "class_names = ['1700', '1800', '1900']\n",
    "\n",
    "# Generate the confusion matrix\n",
    "cnf_matrix = confusion_matrix(y_test, predicted_classes)\n",
    "\n",
    "# Plot confusion matrix\n",
    "plt.figure(figsize = (8,8))\n",
    "plot_confusion_matrix(cnf_matrix, classes=class_names)\n",
    "plt.show()"
   ]
  },
  {
   "cell_type": "code",
   "execution_count": 14,
   "metadata": {
    "scrolled": false
   },
   "outputs": [
    {
     "name": "stdout",
     "output_type": "stream",
     "text": [
      "              precision    recall  f1-score   support\n",
      "\n",
      "           0       0.86      0.77      0.81       500\n",
      "           1       0.71      0.77      0.74       500\n",
      "           2       0.84      0.85      0.85       500\n",
      "\n",
      "    accuracy                           0.80      1500\n",
      "   macro avg       0.80      0.80      0.80      1500\n",
      "weighted avg       0.80      0.80      0.80      1500\n",
      "\n"
     ]
    }
   ],
   "source": [
    "# Also print out the classification report\n",
    "CR = classification_report(y_test, predicted_classes)\n",
    "print(CR)"
   ]
  },
  {
   "cell_type": "markdown",
   "metadata": {},
   "source": [
    "Based on my musical background, I have to say that the results of this model were expected. The model had the hardest time classifying compositions from the 1800's. Not only was the 1800's a time of great and rapid progress in classical compositional style, leading to a great variety of compositional output, but also the 1800's time period had the greatest variety of unique composers from the original dataset. These factors combined make the 1800's a challenge to classify. That being said the model did a very respectable job classifying between compositions in each of these centuries. From the plotted confusion matrix it does not appear as though there was a particular common mistake that was being made in classification, but rather a general level of inaccuracy throughout the predictions. That being said, errors were more commonly made between adjacent centuries.\n",
    "\n",
    "For further research it would be intersting to explore a model where compositions are binned based on the compositional epoch in which they were composed. I feel as though, based on these results, such a model would be very successful. Unfortunately based on the composers present in the dataset, it is not possible to separate the data in such a way and ensure proper representation of classical epochs and approximately equal class sizes for such a model. With the inclution of another data source, this may be something I look into in future, and may be a model that makes more sence from a musical perspective.\n",
    "\n",
    "So far I have had great success with the models I have built. As part of this project I would like to perform one final model investigation, where I compare the classification accuracy of differentiating between two composers at once, and if there is variation in model success based on the composers chosen. To choose composers for this model, I will search for composers with a similar proportion of pieces in the dataset, so as not to have to over or under sample by a significant margin. I would like to present two models: one to classify between composers of different time periods and nationalities, and one to classify between composers of similar time periods and nationalities. Based on these criteria, I have chosen to build a model to classify between Debussy (1800's French) and Mozart (1700's Austrian), and another model to classify between Prokofiev (1900's Russian) and Rachmaninoff (also 1900's Russian)."
   ]
  },
  {
   "cell_type": "markdown",
   "metadata": {},
   "source": [
    "<p style='text-align: right;'> <b> Next Step: </b> Preprocess data required to build a  Two Composer classification model - <em> Two_Comp_Data_Preparation.ipynb </em> </p>"
   ]
  }
 ],
 "metadata": {
  "kernelspec": {
   "display_name": "Python [conda env:bs_capstone]",
   "language": "python",
   "name": "conda-env-bs_capstone-py"
  },
  "language_info": {
   "codemirror_mode": {
    "name": "ipython",
    "version": 3
   },
   "file_extension": ".py",
   "mimetype": "text/x-python",
   "name": "python",
   "nbconvert_exporter": "python",
   "pygments_lexer": "ipython3",
   "version": "3.7.8"
  }
 },
 "nbformat": 4,
 "nbformat_minor": 4
}
