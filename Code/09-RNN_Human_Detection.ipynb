{
 "cells": [
  {
   "cell_type": "markdown",
   "metadata": {},
   "source": [
    "*RNN_Human_Detection.ipynb* <p style='text-align: right;'> <b> September 20th 2020 </b> </p>\n",
    "<p style='text-align: right;'> <b> David Diston </b> </p>"
   ]
  },
  {
   "cell_type": "markdown",
   "metadata": {},
   "source": [
    "# Build an LSTM RNN to Classify between Human and Computer Performances"
   ]
  },
  {
   "cell_type": "markdown",
   "metadata": {},
   "source": [
    "***Substantial trial-and-error tuning was performed when developing this model. The final model iteration is shown here***\n",
    "\n",
    "I have chosed to work with LSTM RNN architecture because of its success when dealing with sequential data. Since each row of data in my arrays has 88 observations (one variable/column per piano note), I initially started with a model containing 88 input nodes in an LSTM layer. After trial and error with different input nodes, I found 88 input nodes was the most optimal structure. For other models created in this project, I will show later that the optimal number of input nodes varries. Similar to tuning the number of input nodes, the number of hidden layers, and nodes within those layers were adjusted and tested to find the best model architecture for this problem. \n",
    "\n",
    "Based on this tuning, the most optimal model for this project was deterined to be 88 LSTM input nodes, followed by one hidden LSTM layer also with 88 nodes, a hidden dense layer with 1408 nodes, and the final output layer with 2 nodes and softmax activation. I have also included dropout to try and mitigate overfitting."
   ]
  },
  {
   "cell_type": "code",
   "execution_count": 1,
   "metadata": {},
   "outputs": [],
   "source": [
    "# Import all libraries for modeling\n",
    "import numpy as np\n",
    "import os\n",
    "import tensorflow\n",
    "import random\n",
    "\n",
    "from tensorflow import keras\n",
    "from tensorflow.keras.models import Sequential\n",
    "from tensorflow.keras.layers import Dense, Dropout, LSTM\n",
    "from tensorflow.keras.optimizers import Adam\n",
    "from tensorflow.keras.callbacks import ModelCheckpoint"
   ]
  },
  {
   "cell_type": "code",
   "execution_count": 2,
   "metadata": {},
   "outputs": [],
   "source": [
    "# I have created a function to load my data that can be called for the training, validation, and test sets\n",
    "# This function will take in the list of classes, and the directory where to find the data\n",
    "def training_set(cat, datdir):\n",
    "    # Using the category labels, I can iterate through each folder\n",
    "    for category in cat:\n",
    "        path = os.path.join(datdir, category)\n",
    "        class_num = categories.index(category)\n",
    "        # Using the path, and index of the category, I can append both together in a training_data list\n",
    "        for array in os.listdir(path):\n",
    "            # Here I am going to use try, to avoid breaking the loop if it comes accross an issue loading a particular array\n",
    "            try:\n",
    "                midi_array = np.load(os.path.join(path, array))\n",
    "                training_data.append([midi_array, class_num])\n",
    "            except Exception as e:\n",
    "                pass"
   ]
  },
  {
   "cell_type": "code",
   "execution_count": 3,
   "metadata": {},
   "outputs": [],
   "source": [
    "# Load Training Data\n",
    "datadirectory = 'C:/Users/David Diston/Documents/CapstonePythonScripts/HumComp/HumComp_Data'\n",
    "categories = ['Computer', 'Human']\n",
    "\n",
    "# I'll instantiate my training_data list\n",
    "training_data = []\n",
    "\n",
    "# I will pass the path and categories into my data import function\n",
    "training_set(categories, datadirectory)\n",
    "\n",
    "# I am going to shuffle the data for more accurate training\n",
    "random.shuffle(training_data)\n",
    "\n",
    "X = []\n",
    "y = []\n",
    "\n",
    "# For every array/class pair in the data list, I will append the array and class to the X and y variable respectively\n",
    "for features, label in training_data:\n",
    "    X.append(features)\n",
    "    y.append(label)"
   ]
  },
  {
   "cell_type": "code",
   "execution_count": 4,
   "metadata": {},
   "outputs": [],
   "source": [
    "# Load Validation Data\n",
    "datadirectory = 'C:/Users/David Diston/Documents/CapstonePythonScripts/HumComp/HumComp_Validation_Set_Data'\n",
    "categories = ['Computer', 'Human']\n",
    "\n",
    "# I am going to use the same data import function I created, so I will reinstantiate the list\n",
    "training_data = []\n",
    "\n",
    "# Again I will pass in the categories/class labels and data path for teh validation data\n",
    "training_set(categories, datadirectory)\n",
    "\n",
    "# I will shuffle the validation data\n",
    "random.shuffle(training_data)\n",
    "\n",
    "X_val = []\n",
    "y_val = []\n",
    "\n",
    "# Once again I will break apart the array/class pairs and attach them to the validation variables\n",
    "for features, label in training_data:\n",
    "    X_val.append(features)\n",
    "    y_val.append(label)"
   ]
  },
  {
   "cell_type": "code",
   "execution_count": 5,
   "metadata": {},
   "outputs": [],
   "source": [
    "# I will convert all data lists to arrays, and reshape to the correct shape for network input\n",
    "X_train = np.array(X).reshape(-1, 100, 88)\n",
    "y_train = np.array(y)\n",
    "X_val = np.array(X_val).reshape(-1, 100, 88)\n",
    "y_val = np.array(y_val)\n",
    "\n",
    "# Here I will normalize all the data to improve training\n",
    "# Since all note velocities are between 0-127, I can divide by 127 to convert all velocities to between 0 and 1\n",
    "X_train = X_train / 127\n",
    "X_val = X_val / 127"
   ]
  },
  {
   "cell_type": "code",
   "execution_count": 6,
   "metadata": {},
   "outputs": [],
   "source": [
    "# I will instantiate my model\n",
    "HumCom_model = Sequential()\n",
    "\n",
    "# Through trial and error I have found 88 input nodes to be optimal\n",
    "# I am also returning a sequence to be passed to my next hidden LSTM layer\n",
    "# Dropout is used after each layer to prevent overfitting\n",
    "HumCom_model.add(LSTM(88, input_shape = (X_train.shape[1:]), activation = 'relu', return_sequences = True))\n",
    "HumCom_model.add(Dropout(0.1))\n",
    "\n",
    "# My first hidden layer also with relu activation\n",
    "# A sequence output is not required here since the next layer is dense\n",
    "HumCom_model.add(LSTM(88, activation='relu'))\n",
    "HumCom_model.add(Dropout(0.1))\n",
    "\n",
    "# Trial and error by factors of 44 nodes found that 1408 nodes in the hidden dense layer was optimal\n",
    "# I experimented with more and less hidden layers and found this arrangement to be optimal\n",
    "HumCom_model.add(Dense(1408, activation='relu'))\n",
    "HumCom_model.add(Dropout(0.1))\n",
    "\n",
    "# The final output of the model will predict between the two classes\n",
    "HumCom_model.add(Dense(2, activation='softmax'))"
   ]
  },
  {
   "cell_type": "code",
   "execution_count": 7,
   "metadata": {},
   "outputs": [
    {
     "name": "stdout",
     "output_type": "stream",
     "text": [
      "Model: \"sequential\"\n",
      "_________________________________________________________________\n",
      "Layer (type)                 Output Shape              Param #   \n",
      "=================================================================\n",
      "lstm (LSTM)                  (None, 100, 88)           62304     \n",
      "_________________________________________________________________\n",
      "dropout (Dropout)            (None, 100, 88)           0         \n",
      "_________________________________________________________________\n",
      "lstm_1 (LSTM)                (None, 88)                62304     \n",
      "_________________________________________________________________\n",
      "dropout_1 (Dropout)          (None, 88)                0         \n",
      "_________________________________________________________________\n",
      "dense (Dense)                (None, 1408)              125312    \n",
      "_________________________________________________________________\n",
      "dropout_2 (Dropout)          (None, 1408)              0         \n",
      "_________________________________________________________________\n",
      "dense_1 (Dense)              (None, 2)                 2818      \n",
      "=================================================================\n",
      "Total params: 252,738\n",
      "Trainable params: 252,738\n",
      "Non-trainable params: 0\n",
      "_________________________________________________________________\n"
     ]
    }
   ],
   "source": [
    "# I am going to use the adam optimizer with an average learning rate and decay\n",
    "# I also had issues with gradient explosion, so I introduce value clipping of 0.5\n",
    "opt = Adam(lr = 0.001, decay = 0.00001, clipvalue=0.5)\n",
    "\n",
    "# Here I compile my model with the loss function, the optimizer, an accuracy metric\n",
    "HumCom_model.compile(\n",
    "    loss='sparse_categorical_crossentropy',\n",
    "    optimizer = opt,\n",
    "    metrics=['accuracy'])\n",
    "\n",
    "# Prior to training I print out a summary of the model I have created\n",
    "HumCom_model.summary()"
   ]
  },
  {
   "cell_type": "code",
   "execution_count": 8,
   "metadata": {},
   "outputs": [
    {
     "name": "stdout",
     "output_type": "stream",
     "text": [
      "Epoch 1/20\n",
      "320/320 [==============================] - ETA: 0s - loss: 30520976.0000 - accuracy: 0.5824\n",
      "Epoch 00001: val_accuracy improved from -inf to 0.64650, saving model to Models/HumCom_Model.hdf5\n",
      "320/320 [==============================] - 21s 66ms/step - loss: 30520976.0000 - accuracy: 0.5824 - val_loss: 0.6415 - val_accuracy: 0.6465\n",
      "Epoch 2/20\n",
      "320/320 [==============================] - ETA: 0s - loss: 0.5623 - accuracy: 0.7099\n",
      "Epoch 00002: val_accuracy improved from 0.64650 to 0.73900, saving model to Models/HumCom_Model.hdf5\n",
      "320/320 [==============================] - 21s 65ms/step - loss: 0.5623 - accuracy: 0.7099 - val_loss: 3730435.2500 - val_accuracy: 0.7390\n",
      "Epoch 3/20\n",
      "320/320 [==============================] - ETA: 0s - loss: 6683548.0000 - accuracy: 0.7229\n",
      "Epoch 00003: val_accuracy did not improve from 0.73900\n",
      "320/320 [==============================] - 21s 66ms/step - loss: 6683548.0000 - accuracy: 0.7229 - val_loss: 0.7006 - val_accuracy: 0.5000\n",
      "Epoch 4/20\n",
      "320/320 [==============================] - ETA: 0s - loss: 82.9146 - accuracy: 0.5506\n",
      "Epoch 00004: val_accuracy did not improve from 0.73900\n",
      "320/320 [==============================] - 21s 66ms/step - loss: 82.9146 - accuracy: 0.5506 - val_loss: 0.6806 - val_accuracy: 0.5660\n",
      "Epoch 5/20\n",
      "320/320 [==============================] - ETA: 0s - loss: 0.5906 - accuracy: 0.6862\n",
      "Epoch 00005: val_accuracy did not improve from 0.73900\n",
      "320/320 [==============================] - 21s 66ms/step - loss: 0.5906 - accuracy: 0.6862 - val_loss: 0.5570 - val_accuracy: 0.7205\n",
      "Epoch 6/20\n",
      "320/320 [==============================] - ETA: 0s - loss: 0.4993 - accuracy: 0.7622\n",
      "Epoch 00006: val_accuracy improved from 0.73900 to 0.75800, saving model to Models/HumCom_Model.hdf5\n",
      "320/320 [==============================] - 21s 66ms/step - loss: 0.4993 - accuracy: 0.7622 - val_loss: 0.5131 - val_accuracy: 0.7580\n",
      "Epoch 7/20\n",
      "320/320 [==============================] - ETA: 0s - loss: 0.4448 - accuracy: 0.7974\n",
      "Epoch 00007: val_accuracy improved from 0.75800 to 0.77450, saving model to Models/HumCom_Model.hdf5\n",
      "320/320 [==============================] - 21s 66ms/step - loss: 0.4448 - accuracy: 0.7974 - val_loss: 0.4725 - val_accuracy: 0.7745\n",
      "Epoch 8/20\n",
      "320/320 [==============================] - ETA: 0s - loss: 0.4079 - accuracy: 0.8164\n",
      "Epoch 00008: val_accuracy improved from 0.77450 to 0.79950, saving model to Models/HumCom_Model.hdf5\n",
      "320/320 [==============================] - 21s 66ms/step - loss: 0.4079 - accuracy: 0.8164 - val_loss: 0.4469 - val_accuracy: 0.7995\n",
      "Epoch 9/20\n",
      "320/320 [==============================] - ETA: 0s - loss: 0.3795 - accuracy: 0.8315\n",
      "Epoch 00009: val_accuracy did not improve from 0.79950\n",
      "320/320 [==============================] - 21s 66ms/step - loss: 0.3795 - accuracy: 0.8315 - val_loss: 0.4295 - val_accuracy: 0.7940\n",
      "Epoch 10/20\n",
      "320/320 [==============================] - ETA: 0s - loss: 0.3626 - accuracy: 0.8424\n",
      "Epoch 00010: val_accuracy improved from 0.79950 to 0.82900, saving model to Models/HumCom_Model.hdf5\n",
      "320/320 [==============================] - 21s 66ms/step - loss: 0.3626 - accuracy: 0.8424 - val_loss: 0.4205 - val_accuracy: 0.8290\n",
      "Epoch 11/20\n",
      "320/320 [==============================] - ETA: 0s - loss: 0.3229 - accuracy: 0.8644\n",
      "Epoch 00011: val_accuracy improved from 0.82900 to 0.83950, saving model to Models/HumCom_Model.hdf5\n",
      "320/320 [==============================] - 21s 66ms/step - loss: 0.3229 - accuracy: 0.8644 - val_loss: 0.3704 - val_accuracy: 0.8395\n",
      "Epoch 12/20\n",
      "320/320 [==============================] - ETA: 0s - loss: 0.2762 - accuracy: 0.8890\n",
      "Epoch 00012: val_accuracy improved from 0.83950 to 0.86050, saving model to Models/HumCom_Model.hdf5\n",
      "320/320 [==============================] - 21s 66ms/step - loss: 0.2762 - accuracy: 0.8890 - val_loss: 0.3598 - val_accuracy: 0.8605\n",
      "Epoch 13/20\n",
      "320/320 [==============================] - ETA: 0s - loss: 0.3793 - accuracy: 0.8528\n",
      "Epoch 00013: val_accuracy improved from 0.86050 to 0.90200, saving model to Models/HumCom_Model.hdf5\n",
      "320/320 [==============================] - 21s 66ms/step - loss: 0.3793 - accuracy: 0.8528 - val_loss: 0.2588 - val_accuracy: 0.9020\n",
      "Epoch 14/20\n",
      "320/320 [==============================] - ETA: 0s - loss: 0.2045 - accuracy: 0.9285\n",
      "Epoch 00014: val_accuracy improved from 0.90200 to 0.91850, saving model to Models/HumCom_Model.hdf5\n",
      "320/320 [==============================] - 21s 65ms/step - loss: 0.2045 - accuracy: 0.9285 - val_loss: 0.2310 - val_accuracy: 0.9185\n",
      "Epoch 15/20\n",
      "320/320 [==============================] - ETA: 0s - loss: 0.1281 - accuracy: 0.9542\n",
      "Epoch 00015: val_accuracy improved from 0.91850 to 0.94400, saving model to Models/HumCom_Model.hdf5\n",
      "320/320 [==============================] - 21s 65ms/step - loss: 0.1281 - accuracy: 0.9542 - val_loss: 0.1521 - val_accuracy: 0.9440\n",
      "Epoch 16/20\n",
      "320/320 [==============================] - ETA: 0s - loss: 1.6357 - accuracy: 0.9551\n",
      "Epoch 00016: val_accuracy improved from 0.94400 to 0.94550, saving model to Models/HumCom_Model.hdf5\n",
      "320/320 [==============================] - 21s 66ms/step - loss: 1.6357 - accuracy: 0.9551 - val_loss: 0.1586 - val_accuracy: 0.9455\n",
      "Epoch 17/20\n",
      "320/320 [==============================] - ETA: 0s - loss: 33513388.0000 - accuracy: 0.8952\n",
      "Epoch 00017: val_accuracy did not improve from 0.94550\n",
      "320/320 [==============================] - 21s 66ms/step - loss: 33513388.0000 - accuracy: 0.8952 - val_loss: 22.2019 - val_accuracy: 0.7990\n",
      "Epoch 18/20\n",
      "320/320 [==============================] - ETA: 0s - loss: 0.6028 - accuracy: 0.9317\n",
      "Epoch 00018: val_accuracy improved from 0.94550 to 0.97100, saving model to Models/HumCom_Model.hdf5\n",
      "320/320 [==============================] - 21s 66ms/step - loss: 0.6028 - accuracy: 0.9317 - val_loss: 0.0925 - val_accuracy: 0.9710\n",
      "Epoch 19/20\n",
      "320/320 [==============================] - ETA: 0s - loss: 13.5659 - accuracy: 0.9763\n",
      "Epoch 00019: val_accuracy improved from 0.97100 to 0.97800, saving model to Models/HumCom_Model.hdf5\n",
      "320/320 [==============================] - 21s 66ms/step - loss: 13.5659 - accuracy: 0.9763 - val_loss: 0.0688 - val_accuracy: 0.9780\n",
      "Epoch 20/20\n",
      "320/320 [==============================] - ETA: 0s - loss: 0.0510 - accuracy: 0.9837\n",
      "Epoch 00020: val_accuracy improved from 0.97800 to 0.98700, saving model to Models/HumCom_Model.hdf5\n",
      "320/320 [==============================] - 21s 66ms/step - loss: 0.0510 - accuracy: 0.9837 - val_loss: 0.0492 - val_accuracy: 0.9870\n"
     ]
    },
    {
     "data": {
      "text/plain": [
       "<tensorflow.python.keras.callbacks.History at 0x1b768752a08>"
      ]
     },
     "execution_count": 8,
     "metadata": {},
     "output_type": "execute_result"
    }
   ],
   "source": [
    "# By including this checkpoint I can save a copy of the weights from the best performing epoch\n",
    "# I will identify the best performing epoch by monitoring the validation accuracy\n",
    "checkpoint = ModelCheckpoint('Models/HumCom_Model.hdf5', monitor='val_accuracy', verbose=1, save_best_only=True, mode='max')\n",
    "callbacks_list = [checkpoint]\n",
    "\n",
    "# Now time to fit the model\n",
    "# I set epochs to 20 since I found that after 20 epochs the model tends to start overfitting and there is no further loss reduction\n",
    "HumCom_model.fit(X_train, y_train,\n",
    "               batch_size = 50,\n",
    "               epochs = 20,\n",
    "               validation_data=(X_val, y_val),\n",
    "               callbacks=callbacks_list)"
   ]
  },
  {
   "cell_type": "code",
   "execution_count": 9,
   "metadata": {},
   "outputs": [
    {
     "name": "stdout",
     "output_type": "stream",
     "text": [
      "WARNING:tensorflow:From C:\\Users\\David Diston\\anaconda3\\envs\\bs_capstone\\lib\\site-packages\\tensorflow\\python\\ops\\resource_variable_ops.py:1817: calling BaseResourceVariable.__init__ (from tensorflow.python.ops.resource_variable_ops) with constraint is deprecated and will be removed in a future version.\n",
      "Instructions for updating:\n",
      "If using Keras pass *_constraint arguments to layers.\n",
      "INFO:tensorflow:Assets written to: Models/HumCom_model\\assets\n"
     ]
    }
   ],
   "source": [
    "# In addition to saving the best weights with callback, I will also save a copy of the full model I created\n",
    "HumCom_model.save('Models/HumCom_model')"
   ]
  },
  {
   "cell_type": "code",
   "execution_count": 10,
   "metadata": {},
   "outputs": [],
   "source": [
    "# Here I import the libraries and metrics for evaluating the success of my model\n",
    "from sklearn.metrics import classification_report\n",
    "from sklearn.metrics import confusion_matrix\n",
    "import itertools\n",
    "import matplotlib.pyplot as plt"
   ]
  },
  {
   "cell_type": "code",
   "execution_count": 11,
   "metadata": {},
   "outputs": [],
   "source": [
    "# The standard confusion matrix looks terrible and is difficult to read\n",
    "# The below function will help visually display the confusion matrix results\n",
    "# I got the idea for this function from a previous LSTM study, and have adapted it to my purposes below\n",
    "def plot_confusion_matrix(cm, classes, cmap=plt.cm.Blues):\n",
    "\n",
    "    # Here I am calling the plot of the confusion matrix with the Blue cmap as standard\n",
    "    # I found that the 'nearest' interpolation produced the clearest results\n",
    "    plt.imshow(cm, interpolation='nearest', cmap=cmap)\n",
    "    # I will also include the colour bar for reference\n",
    "    plt.colorbar()\n",
    "    # I set the numer of ticks on the x and y axis to the number of classes which will be useful for multiclass models\n",
    "    tick_marks = np.arange(len(classes))\n",
    "    # Here I am going to rotate the x-axis ticks 45 degrees to avoid crouding with the x-axis label\n",
    "    plt.xticks(tick_marks, classes, rotation=45)\n",
    "    plt.yticks(tick_marks, classes)\n",
    "\n",
    "    # The threshold is half of the maximum value present in the confusion matrix\n",
    "    thresh = cm.max() / 2\n",
    "    # This for loop places the correct numerical text in the correct box, and was borrowed from a previous project\n",
    "    for i, j in itertools.product(range(cm.shape[0]), range(cm.shape[1])):\n",
    "        plt.text(j, i, format(cm[i, j]),\n",
    "                 horizontalalignment=\"center\",\n",
    "                 color=\"white\" if cm[i, j] > thresh else \"black\")\n",
    "\n",
    "    # Finally I will include axis labels for clarity\n",
    "    plt.ylabel('True label')\n",
    "    plt.xlabel('Predicted label')\n",
    "    plt.tight_layout()"
   ]
  },
  {
   "cell_type": "markdown",
   "metadata": {},
   "source": [
    "The above code was inspired by [this project.](https://colab.research.google.com/drive/1ISfhxFDntfOos7cOeT7swduSqzLEqyFn)\n",
    "\n",
    "Only after building this code did I realize that `sklearn.metrics` has a `plot_confusion_matrix` function that works in a very similar way. However to accurately show my process I have included my own function as I originally created it (with inspiration as referenced).\n",
    "\n",
    "Now I can load the test data in the same way I loaded the training and validation data above."
   ]
  },
  {
   "cell_type": "code",
   "execution_count": 12,
   "metadata": {},
   "outputs": [],
   "source": [
    "# Load Test Data\n",
    "datadirectory = 'C:/Users/David Diston/Documents/CapstonePythonScripts/HumComp/HumComp_Test_Set_Data'\n",
    "categories = ['Computer', 'Human']\n",
    "\n",
    "# Similar to above I will instantiate the data list and use the data loading function I created\n",
    "training_data = []\n",
    "    \n",
    "training_set(categories, datadirectory)\n",
    "\n",
    "# I will again shuffle the data, though this process is  not required for the testing data\n",
    "random.shuffle(training_data)\n",
    "\n",
    "X_test = []\n",
    "y_test = []\n",
    "\n",
    "# Once again I will split the arrays and their class labels into their respective variables\n",
    "for features, label in training_data:\n",
    "    X_test.append(features)\n",
    "    y_test.append(label)\n",
    "\n",
    "# I will convert to array and reshape the data\n",
    "X_test = np.array(X_test).reshape(-1, 100, 88)\n",
    "y_test = np.array(y_test)\n",
    "\n",
    "# I will also normalize the test data to values between 0 and 1\n",
    "X_test = X_test / 127"
   ]
  },
  {
   "cell_type": "markdown",
   "metadata": {},
   "source": [
    "Finally, I can use the test data to make predictions using the model built above, and plot the confusion matrix for a visual representation of the classification success of the model."
   ]
  },
  {
   "cell_type": "code",
   "execution_count": 15,
   "metadata": {
    "scrolled": true
   },
   "outputs": [
    {
     "data": {
      "image/png": "[encoded data removed]",
      "text/plain": [
       "<Figure size 432x288 with 2 Axes>"
      ]
     },
     "metadata": {
      "needs_background": "light"
     },
     "output_type": "display_data"
    }
   ],
   "source": [
    "# I will use the predict function to get predictions based on the test set arrays\n",
    "results = HumCom_model.predict(X_test, batch_size = 10)\n",
    "\n",
    "# I will convert the class probabilities into actual class predictions\n",
    "predicted_classes = np.argmax(results, axis=1)\n",
    "\n",
    "# Names of predicted classes\n",
    "class_names = ['Computer', 'Human']\n",
    "\n",
    "# Using sklearn and the true and predicted class labels I will create a confusion matrix\n",
    "cnf_matrix = confusion_matrix(y_test, predicted_classes)\n",
    "\n",
    "# Finally I will plot the confusion matrix using the above function\n",
    "plt.figure()\n",
    "plot_confusion_matrix(cnf_matrix, classes=class_names)\n",
    "plt.title('Human Detection Confusion Matrix')\n",
    "plt.show()"
   ]
  },
  {
   "cell_type": "code",
   "execution_count": 14,
   "metadata": {
    "scrolled": true
   },
   "outputs": [
    {
     "name": "stdout",
     "output_type": "stream",
     "text": [
      "              precision    recall  f1-score   support\n",
      "\n",
      "           0       0.99      0.99      0.99      1000\n",
      "           1       0.99      0.99      0.99      1000\n",
      "\n",
      "    accuracy                           0.99      2000\n",
      "   macro avg       0.99      0.99      0.99      2000\n",
      "weighted avg       0.99      0.99      0.99      2000\n",
      "\n"
     ]
    }
   ],
   "source": [
    "# I will also print a classification report of the class predictions to better understand the errors\n",
    "CR = classification_report(y_test, predicted_classes)\n",
    "print(CR)"
   ]
  },
  {
   "cell_type": "markdown",
   "metadata": {},
   "source": [
    "Overall I am very happy with the high validation and test accuracy I was able to achieve with my model. These results were not entirely unexpected. Even though it is often difficult for the human ear to differentiate bewteen human-performed and computer-performed midi files, as has been discussed so far these types of files are quite different at the data level. \n",
    "\n",
    "Now that I have established that computer and human performed midi files can be identified, I will build a model that attempts to classify the composer of a piece of music."
   ]
  },
  {
   "cell_type": "markdown",
   "metadata": {},
   "source": [
    "<p style='text-align: right;'> <b> Next Step: </b> Preprocess data required to build a Composer classification model - <em> Composer_Model_Data_Preparation.ipynb </em> </p>"
   ]
  }
 ],
 "metadata": {
  "kernelspec": {
   "display_name": "Python [conda env:bs_capstone]",
   "language": "python",
   "name": "conda-env-bs_capstone-py"
  },
  "language_info": {
   "codemirror_mode": {
    "name": "ipython",
    "version": 3
   },
   "file_extension": ".py",
   "mimetype": "text/x-python",
   "name": "python",
   "nbconvert_exporter": "python",
   "pygments_lexer": "ipython3",
   "version": "3.7.8"
  }
 },
 "nbformat": 4,
 "nbformat_minor": 4
}
