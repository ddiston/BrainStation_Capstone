{
 "cells": [
  {
   "cell_type": "markdown",
   "metadata": {},
   "source": [
    "*Prokofiev_Rachmaninoff_Model.ipynb* <p style='text-align: right;'> <b> September 20th 2020 </b> </p>\n",
    "<p style='text-align: right;'> <b> David Diston </b> </p>"
   ]
  },
  {
   "cell_type": "markdown",
   "metadata": {},
   "source": [
    "# Build an LSTM RNN to Classify Music by Prokofiev and Rachmaninoff"
   ]
  },
  {
   "cell_type": "markdown",
   "metadata": {},
   "source": [
    "***Once again, trial-and-error tuning was performed when developing this model. The final model iteration is shown here***\n",
    "\n",
    "Here I will build an LSTM RNN that will attempt to classify music as either having been composed by Prokofiev (1891-1953) and Rachmaninoff (1873-1943). Both of these composers are Russian, and from the same compositional epoch. Since they compose in a similar style, I hypothesise that this model will have a more difficult time classifying than other models tested so far.\n",
    "\n",
    "As with the data preprocessing notebook, this model notebook follows the same structure as the last model notebook. Therefore, the explainatory commenting will be lower in quantity and focus on differences between these notebooks. If further clarification is required please refer to the `11-RNN_Model_Composers.ipynb` notebook."
   ]
  },
  {
   "cell_type": "code",
   "execution_count": 1,
   "metadata": {},
   "outputs": [],
   "source": [
    "import numpy as np\n",
    "import os\n",
    "import tensorflow\n",
    "import random\n",
    "\n",
    "from tensorflow import keras\n",
    "from tensorflow.keras.models import Sequential\n",
    "from tensorflow.keras.layers import Dense, Dropout, LSTM\n",
    "from tensorflow.keras.optimizers import Adam\n",
    "from tensorflow.keras.callbacks import ModelCheckpoint"
   ]
  },
  {
   "cell_type": "code",
   "execution_count": 2,
   "metadata": {},
   "outputs": [],
   "source": [
    "# Usual function to import data\n",
    "def training_set(cat, datdir):\n",
    "    for category in cat:\n",
    "        path = os.path.join(datdir, category)\n",
    "        class_num = categories.index(category)\n",
    "        for array in os.listdir(path):\n",
    "            try:\n",
    "                midi_array = np.load(os.path.join(path, array))\n",
    "                training_data.append([midi_array, class_num])\n",
    "            except Exception as e:\n",
    "                pass"
   ]
  },
  {
   "cell_type": "code",
   "execution_count": 3,
   "metadata": {},
   "outputs": [],
   "source": [
    "# Load Training Data\n",
    "datadirectory = 'C:/Users/David Diston/Documents/CapstonePythonScripts/2Comp/2Comp_Data'\n",
    "categories = ['Prokofiev', 'Rachmaninoff']\n",
    "\n",
    "training_data = []\n",
    "\n",
    "training_set(categories, datadirectory)\n",
    "\n",
    "random.shuffle(training_data)\n",
    "\n",
    "X = []\n",
    "y = []\n",
    "\n",
    "for features, label in training_data:\n",
    "    X.append(features)\n",
    "    y.append(label)"
   ]
  },
  {
   "cell_type": "code",
   "execution_count": 4,
   "metadata": {},
   "outputs": [],
   "source": [
    "# Load Validation Data\n",
    "datadirectory = 'C:/Users/David Diston/Documents/CapstonePythonScripts/2Comp/2Comp_Validation_Set_Data'\n",
    "categories = ['Prokofiev', 'Rachmaninoff']\n",
    "    \n",
    "training_data = []\n",
    "    \n",
    "training_set(categories, datadirectory)\n",
    "\n",
    "random.shuffle(training_data)\n",
    "\n",
    "X_val = []\n",
    "y_val = []\n",
    "\n",
    "for features, label in training_data:\n",
    "    X_val.append(features)\n",
    "    y_val.append(label)"
   ]
  },
  {
   "cell_type": "code",
   "execution_count": 5,
   "metadata": {},
   "outputs": [],
   "source": [
    "# Convert data to array and transform\n",
    "X_train = np.array(X).reshape(-1, 200, 88)\n",
    "y_train = np.array(y)\n",
    "X_val = np.array(X_val).reshape(-1, 200, 88)\n",
    "y_val = np.array(y_val)\n",
    "\n",
    "# Normalize data between 0 and 1\n",
    "X_train = X_train / 127\n",
    "X_val = X_val / 127"
   ]
  },
  {
   "cell_type": "code",
   "execution_count": 18,
   "metadata": {},
   "outputs": [],
   "source": [
    "# Instantiate the model\n",
    "Prokofiev_Rachmaninoff_model = Sequential()\n",
    "\n",
    "Prokofiev_Rachmaninoff_model.add(LSTM(88, input_shape = (X_train.shape[1:]), activation = 'relu', return_sequences = True))\n",
    "Prokofiev_Rachmaninoff_model.add(Dropout(0.1))\n",
    "\n",
    "Prokofiev_Rachmaninoff_model.add(LSTM(88, activation='relu'))\n",
    "Prokofiev_Rachmaninoff_model.add(Dropout(0.1))\n",
    "\n",
    "Prokofiev_Rachmaninoff_model.add(Dense(1408, activation='relu'))\n",
    "Prokofiev_Rachmaninoff_model.add(Dropout(0.1))\n",
    "\n",
    "Prokofiev_Rachmaninoff_model.add(Dense(2, activation='sigmoid'))"
   ]
  },
  {
   "cell_type": "code",
   "execution_count": 19,
   "metadata": {},
   "outputs": [
    {
     "name": "stdout",
     "output_type": "stream",
     "text": [
      "Model: \"sequential_2\"\n",
      "_________________________________________________________________\n",
      "Layer (type)                 Output Shape              Param #   \n",
      "=================================================================\n",
      "lstm_4 (LSTM)                (None, 200, 88)           62304     \n",
      "_________________________________________________________________\n",
      "dropout_6 (Dropout)          (None, 200, 88)           0         \n",
      "_________________________________________________________________\n",
      "lstm_5 (LSTM)                (None, 88)                62304     \n",
      "_________________________________________________________________\n",
      "dropout_7 (Dropout)          (None, 88)                0         \n",
      "_________________________________________________________________\n",
      "dense_4 (Dense)              (None, 1408)              125312    \n",
      "_________________________________________________________________\n",
      "dropout_8 (Dropout)          (None, 1408)              0         \n",
      "_________________________________________________________________\n",
      "dense_5 (Dense)              (None, 2)                 2818      \n",
      "=================================================================\n",
      "Total params: 252,738\n",
      "Trainable params: 252,738\n",
      "Non-trainable params: 0\n",
      "_________________________________________________________________\n"
     ]
    }
   ],
   "source": [
    "# Define the optimizer\n",
    "opt = Adam(lr = 0.0001, decay = 0.00001, clipvalue=0.5)\n",
    "\n",
    "# Compile model\n",
    "Prokofiev_Rachmaninoff_model.compile(\n",
    "    loss='sparse_categorical_crossentropy',\n",
    "    optimizer = opt,\n",
    "    metrics=['accuracy'])\n",
    "\n",
    "Prokofiev_Rachmaninoff_model.summary()"
   ]
  },
  {
   "cell_type": "code",
   "execution_count": 20,
   "metadata": {},
   "outputs": [
    {
     "name": "stdout",
     "output_type": "stream",
     "text": [
      "Epoch 1/10\n",
      "200/200 [==============================] - ETA: 0s - loss: 0.6928 - accuracy: 0.5155\n",
      "Epoch 00001: val_accuracy improved from -inf to 0.50000, saving model to Models/Prokofiev_Rachmaninoff_model.hdf5\n",
      "200/200 [==============================] - 15s 73ms/step - loss: 0.6928 - accuracy: 0.5155 - val_loss: 0.6927 - val_accuracy: 0.5000\n",
      "Epoch 2/10\n",
      "200/200 [==============================] - ETA: 0s - loss: 0.6896 - accuracy: 0.5410\n",
      "Epoch 00002: val_accuracy improved from 0.50000 to 0.57500, saving model to Models/Prokofiev_Rachmaninoff_model.hdf5\n",
      "200/200 [==============================] - 14s 71ms/step - loss: 0.6896 - accuracy: 0.5410 - val_loss: 0.6822 - val_accuracy: 0.5750\n",
      "Epoch 3/10\n",
      "200/200 [==============================] - ETA: 0s - loss: 0.7966 - accuracy: 0.6465\n",
      "Epoch 00003: val_accuracy improved from 0.57500 to 0.61500, saving model to Models/Prokofiev_Rachmaninoff_model.hdf5\n",
      "200/200 [==============================] - 14s 71ms/step - loss: 0.7966 - accuracy: 0.6465 - val_loss: 0.6449 - val_accuracy: 0.6150\n",
      "Epoch 4/10\n",
      "200/200 [==============================] - ETA: 0s - loss: 0.7215 - accuracy: 0.6750\n",
      "Epoch 00004: val_accuracy improved from 0.61500 to 0.65500, saving model to Models/Prokofiev_Rachmaninoff_model.hdf5\n",
      "200/200 [==============================] - 14s 71ms/step - loss: 0.7215 - accuracy: 0.6750 - val_loss: 0.7178 - val_accuracy: 0.6550\n",
      "Epoch 5/10\n",
      "200/200 [==============================] - ETA: 0s - loss: 0.7711 - accuracy: 0.6895\n",
      "Epoch 00005: val_accuracy did not improve from 0.65500\n",
      "200/200 [==============================] - 14s 71ms/step - loss: 0.7711 - accuracy: 0.6895 - val_loss: 1.5414 - val_accuracy: 0.6450\n",
      "Epoch 6/10\n",
      "200/200 [==============================] - ETA: 0s - loss: 0.8564 - accuracy: 0.6905\n",
      "Epoch 00006: val_accuracy did not improve from 0.65500\n",
      "200/200 [==============================] - 14s 71ms/step - loss: 0.8564 - accuracy: 0.6905 - val_loss: 0.6666 - val_accuracy: 0.6050\n",
      "Epoch 7/10\n",
      "200/200 [==============================] - ETA: 0s - loss: 0.8754 - accuracy: 0.6965\n",
      "Epoch 00007: val_accuracy did not improve from 0.65500\n",
      "200/200 [==============================] - 14s 71ms/step - loss: 0.8754 - accuracy: 0.6965 - val_loss: 0.7807 - val_accuracy: 0.6450\n",
      "Epoch 8/10\n",
      "200/200 [==============================] - ETA: 0s - loss: 0.7774 - accuracy: 0.6990\n",
      "Epoch 00008: val_accuracy improved from 0.65500 to 0.67000, saving model to Models/Prokofiev_Rachmaninoff_model.hdf5\n",
      "200/200 [==============================] - 14s 70ms/step - loss: 0.7774 - accuracy: 0.6990 - val_loss: 0.6105 - val_accuracy: 0.6700\n",
      "Epoch 9/10\n",
      "200/200 [==============================] - ETA: 0s - loss: 0.6543 - accuracy: 0.7145\n",
      "Epoch 00009: val_accuracy improved from 0.67000 to 0.68000, saving model to Models/Prokofiev_Rachmaninoff_model.hdf5\n",
      "200/200 [==============================] - 14s 70ms/step - loss: 0.6543 - accuracy: 0.7145 - val_loss: 0.6058 - val_accuracy: 0.6800\n",
      "Epoch 10/10\n",
      "200/200 [==============================] - ETA: 0s - loss: 0.6852 - accuracy: 0.7185\n",
      "Epoch 00010: val_accuracy did not improve from 0.68000\n",
      "200/200 [==============================] - 14s 70ms/step - loss: 0.6852 - accuracy: 0.7185 - val_loss: 0.6882 - val_accuracy: 0.6500\n"
     ]
    },
    {
     "data": {
      "text/plain": [
       "<tensorflow.python.keras.callbacks.History at 0x1bc22252948>"
      ]
     },
     "execution_count": 20,
     "metadata": {},
     "output_type": "execute_result"
    }
   ],
   "source": [
    "# Create checkpoint to record best weights\n",
    "checkpoint = ModelCheckpoint('Models/Prokofiev_Rachmaninoff_model.hdf5', monitor='val_accuracy', verbose=1, save_best_only=True, mode='max')\n",
    "callbacks_list = [checkpoint]\n",
    "\n",
    "# Train the model\n",
    "Prokofiev_Rachmaninoff_model.fit(X_train, y_train,\n",
    "               batch_size = 10,\n",
    "               epochs = 10,\n",
    "               validation_data=(X_val, y_val),\n",
    "               callbacks=callbacks_list)"
   ]
  },
  {
   "cell_type": "code",
   "execution_count": 21,
   "metadata": {},
   "outputs": [
    {
     "name": "stdout",
     "output_type": "stream",
     "text": [
      "INFO:tensorflow:Assets written to: Models/Prokofiev_Rachmaninoff_model\\assets\n"
     ]
    }
   ],
   "source": [
    "# Save the full model\n",
    "Prokofiev_Rachmaninoff_model.save('Models/Prokofiev_Rachmaninoff_model')"
   ]
  },
  {
   "cell_type": "markdown",
   "metadata": {},
   "source": [
    "### Model Evaluation"
   ]
  },
  {
   "cell_type": "code",
   "execution_count": 22,
   "metadata": {},
   "outputs": [],
   "source": [
    "from sklearn.metrics import classification_report\n",
    "from sklearn.metrics import confusion_matrix\n",
    "import itertools\n",
    "import matplotlib.pyplot as plt"
   ]
  },
  {
   "cell_type": "code",
   "execution_count": 23,
   "metadata": {},
   "outputs": [],
   "source": [
    "# Confusion matrix plotting function\n",
    "def plot_confusion_matrix(cm, classes, cmap=plt.cm.Blues):\n",
    "\n",
    "    plt.imshow(cm, interpolation='nearest', cmap=cmap)\n",
    "    plt.colorbar()\n",
    "    tick_marks = np.arange(len(classes))\n",
    "    plt.xticks(tick_marks, classes, rotation=45)\n",
    "    plt.yticks(tick_marks, classes)\n",
    "\n",
    "    thresh = cm.max() / 2\n",
    "    for i, j in itertools.product(range(cm.shape[0]), range(cm.shape[1])):\n",
    "        plt.text(j, i, format(cm[i, j]),\n",
    "                 horizontalalignment=\"center\",\n",
    "                 color=\"white\" if cm[i, j] > thresh else \"black\")\n",
    "\n",
    "    plt.ylabel('True label')\n",
    "    plt.xlabel('Predicted label')\n",
    "    plt.tight_layout()"
   ]
  },
  {
   "cell_type": "code",
   "execution_count": 24,
   "metadata": {},
   "outputs": [],
   "source": [
    "# Load Test Data\n",
    "datadirectory = 'C:/Users/David Diston/Documents/CapstonePythonScripts/2Comp/2Comp_Test_Set_Data'\n",
    "categories = ['Prokofiev', 'Rachmaninoff']\n",
    "    \n",
    "training_data = []\n",
    "    \n",
    "training_set(categories, datadirectory)\n",
    "\n",
    "random.shuffle(training_data)\n",
    "\n",
    "X_test = []\n",
    "y_test = []\n",
    "\n",
    "for features, label in training_data:\n",
    "    X_test.append(features)\n",
    "    y_test.append(label)\n",
    "    \n",
    "X_test = np.array(X_test).reshape(-1, 200, 88)\n",
    "y_test = np.array(y_test)\n",
    "\n",
    "# Normalization\n",
    "X_test = X_test / 127"
   ]
  },
  {
   "cell_type": "code",
   "execution_count": 25,
   "metadata": {
    "scrolled": false
   },
   "outputs": [
    {
     "data": {
      "image/png": "[encoded data removed]",
      "text/plain": [
       "<Figure size 576x576 with 2 Axes>"
      ]
     },
     "metadata": {
      "needs_background": "light"
     },
     "output_type": "display_data"
    }
   ],
   "source": [
    "# Get predictions from test data\n",
    "results = Prokofiev_Rachmaninoff_model.predict(X_test, batch_size = 10)\n",
    "\n",
    "# Convert from class probabilities to actual class predictions\n",
    "predicted_classes = np.argmax(results, axis=1)\n",
    "\n",
    "# Names of predicted classes\n",
    "class_names = ['Prokofiev', 'Rachmaninoff']\n",
    "\n",
    "# Generate the confusion matrix\n",
    "cnf_matrix = confusion_matrix(y_test, predicted_classes)\n",
    "\n",
    "# Plot confusion matrix\n",
    "plt.figure(figsize = (8,8))\n",
    "plot_confusion_matrix(cnf_matrix, classes=class_names)\n",
    "plt.show()"
   ]
  },
  {
   "cell_type": "code",
   "execution_count": 26,
   "metadata": {
    "scrolled": false
   },
   "outputs": [
    {
     "name": "stdout",
     "output_type": "stream",
     "text": [
      "              precision    recall  f1-score   support\n",
      "\n",
      "           0       0.64      0.79      0.71       100\n",
      "           1       0.72      0.55      0.63       100\n",
      "\n",
      "    accuracy                           0.67       200\n",
      "   macro avg       0.68      0.67      0.67       200\n",
      "weighted avg       0.68      0.67      0.67       200\n",
      "\n"
     ]
    }
   ],
   "source": [
    "# Print classification report\n",
    "CR = classification_report(y_test, predicted_classes)\n",
    "print(CR)"
   ]
  },
  {
   "cell_type": "markdown",
   "metadata": {},
   "source": [
    "While I did not expect this model to be as successful as others I have created in this project, the way in which this model is less successful is interesting. I am surprised to see that the model had a much more difficult time classifying music by Rachmaninoff than Prokofiev. This is interesting to me, as to my ear, each of these composers compose in a similar style. Therefore I am unsure as to why one composer would be so much more difficult to classify than the other. Perhaps an explaination could simply be the comparably lower sample size used in this model, however the same sample size was used to train the Debussy-Mozart model to great success.\n",
    "\n",
    "In future I would be interested to explore this observation further by perhaps comparing each of these composers to others in the dataset. It would be interesting to see if the same pattern of classification difficulties are present between other composer comparrisons, or if the model difficulty classifying Rachmaninoff is somewhat unique to the comparrison with Prokofiev."
   ]
  }
 ],
 "metadata": {
  "kernelspec": {
   "display_name": "Python [conda env:bs_capstone]",
   "language": "python",
   "name": "conda-env-bs_capstone-py"
  },
  "language_info": {
   "codemirror_mode": {
    "name": "ipython",
    "version": 3
   },
   "file_extension": ".py",
   "mimetype": "text/x-python",
   "name": "python",
   "nbconvert_exporter": "python",
   "pygments_lexer": "ipython3",
   "version": "3.7.8"
  }
 },
 "nbformat": 4,
 "nbformat_minor": 4
}
