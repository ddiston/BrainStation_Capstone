{
 "cells": [
  {
   "cell_type": "markdown",
   "metadata": {},
   "source": [
    "*Composer_Model_Data_Preparation.ipynb* <p style='text-align: right;'> <b> September 20th 2020 </b> </p>\n",
    "<p style='text-align: right;'> <b> David Diston </b> </p>"
   ]
  },
  {
   "cell_type": "markdown",
   "metadata": {},
   "source": [
    "# Preprocess Data Required to Build a Composer Classifier LSTM RNN"
   ]
  },
  {
   "cell_type": "markdown",
   "metadata": {},
   "source": [
    "***Similar data preprocessing will now need to be performed to prepare data to train a composer classifier RNN***\n",
    "\n",
    "From the initial EDA and Visualization of my data I determined that there are 98 unique composers in the dataset. This is far too many composers for a reasonable classifier. Additionally several composers have very few peices in the dataset, which would make it extremely difficult to have balanced classes for training. Therefore I have made the decision to work only with the top 10 most occuring composers in the dataset. I will import my data csv to determine which composers are the top 10."
   ]
  },
  {
   "cell_type": "code",
   "execution_count": 2,
   "metadata": {},
   "outputs": [],
   "source": [
    "# As usual I will import my required libraries\n",
    "import numpy as np\n",
    "import pandas as pd\n",
    "import matplotlib.pyplot as plt\n",
    "import mido\n",
    "from mido import MidiFile, MidiTrack, Message, MetaMessage\n",
    "import os\n",
    "import random\n",
    "import shutil"
   ]
  },
  {
   "cell_type": "code",
   "execution_count": 20,
   "metadata": {},
   "outputs": [],
   "source": [
    "# Read in the dataset csv\n",
    "data = pd.read_csv('midi_files.csv')"
   ]
  },
  {
   "cell_type": "code",
   "execution_count": 21,
   "metadata": {},
   "outputs": [
    {
     "data": {
      "text/html": [
       "<div>\n",
       "<style scoped>\n",
       "    .dataframe tbody tr th:only-of-type {\n",
       "        vertical-align: middle;\n",
       "    }\n",
       "\n",
       "    .dataframe tbody tr th {\n",
       "        vertical-align: top;\n",
       "    }\n",
       "\n",
       "    .dataframe thead th {\n",
       "        text-align: right;\n",
       "    }\n",
       "</style>\n",
       "<table border=\"1\" class=\"dataframe\">\n",
       "  <thead>\n",
       "    <tr style=\"text-align: right;\">\n",
       "      <th></th>\n",
       "      <th>Composer</th>\n",
       "      <th>Performer</th>\n",
       "      <th>Perf_Nationality</th>\n",
       "      <th>Perf_Gender</th>\n",
       "      <th>Piece</th>\n",
       "      <th>Length</th>\n",
       "      <th>Tempo</th>\n",
       "      <th>Time_Signature</th>\n",
       "      <th>Freq_C</th>\n",
       "      <th>Freq_C#/Db</th>\n",
       "      <th>...</th>\n",
       "      <th>Freq_F#/Gb</th>\n",
       "      <th>Freq_G</th>\n",
       "      <th>Freq_G#/Ab</th>\n",
       "      <th>Freq_A</th>\n",
       "      <th>Freq_A#/Bb</th>\n",
       "      <th>Freq_B</th>\n",
       "      <th>Unique_Velocities</th>\n",
       "      <th>Average_Velocity</th>\n",
       "      <th>Min_Velocity</th>\n",
       "      <th>Max_Velocity</th>\n",
       "    </tr>\n",
       "  </thead>\n",
       "  <tbody>\n",
       "    <tr>\n",
       "      <th>0</th>\n",
       "      <td>Albeniz</td>\n",
       "      <td>JieChen</td>\n",
       "      <td>China</td>\n",
       "      <td>F</td>\n",
       "      <td>TrianaFromIberia</td>\n",
       "      <td>299</td>\n",
       "      <td>215</td>\n",
       "      <td>4/4</td>\n",
       "      <td>0.07603</td>\n",
       "      <td>0.14623</td>\n",
       "      <td>...</td>\n",
       "      <td>0.12477</td>\n",
       "      <td>0.03364</td>\n",
       "      <td>0.12954</td>\n",
       "      <td>0.09272</td>\n",
       "      <td>0.03709</td>\n",
       "      <td>0.08159</td>\n",
       "      <td>109</td>\n",
       "      <td>64.54</td>\n",
       "      <td>6</td>\n",
       "      <td>118</td>\n",
       "    </tr>\n",
       "    <tr>\n",
       "      <th>1</th>\n",
       "      <td>Albeniz</td>\n",
       "      <td>InesaSinkevych</td>\n",
       "      <td>Israel</td>\n",
       "      <td>F</td>\n",
       "      <td>TrianaFromIberia</td>\n",
       "      <td>261</td>\n",
       "      <td>210</td>\n",
       "      <td>4/4</td>\n",
       "      <td>0.07430</td>\n",
       "      <td>0.14861</td>\n",
       "      <td>...</td>\n",
       "      <td>0.12023</td>\n",
       "      <td>0.03612</td>\n",
       "      <td>0.12822</td>\n",
       "      <td>0.09056</td>\n",
       "      <td>0.03689</td>\n",
       "      <td>0.08127</td>\n",
       "      <td>100</td>\n",
       "      <td>70.56</td>\n",
       "      <td>6</td>\n",
       "      <td>108</td>\n",
       "    </tr>\n",
       "    <tr>\n",
       "      <th>2</th>\n",
       "      <td>Albeniz</td>\n",
       "      <td>AndrewStaupe</td>\n",
       "      <td>USA</td>\n",
       "      <td>M</td>\n",
       "      <td>EvocationsFromIberia</td>\n",
       "      <td>324</td>\n",
       "      <td>198</td>\n",
       "      <td>4/4</td>\n",
       "      <td>0.05186</td>\n",
       "      <td>0.10722</td>\n",
       "      <td>...</td>\n",
       "      <td>0.08479</td>\n",
       "      <td>0.08059</td>\n",
       "      <td>0.12964</td>\n",
       "      <td>0.03013</td>\n",
       "      <td>0.10652</td>\n",
       "      <td>0.08199</td>\n",
       "      <td>97</td>\n",
       "      <td>49.84</td>\n",
       "      <td>3</td>\n",
       "      <td>101</td>\n",
       "    </tr>\n",
       "    <tr>\n",
       "      <th>3</th>\n",
       "      <td>Albeniz</td>\n",
       "      <td>GregoryDeTurck</td>\n",
       "      <td>USA</td>\n",
       "      <td>M</td>\n",
       "      <td>RondenaFromIberia</td>\n",
       "      <td>412</td>\n",
       "      <td>187</td>\n",
       "      <td>4/4</td>\n",
       "      <td>0.07866</td>\n",
       "      <td>0.06898</td>\n",
       "      <td>...</td>\n",
       "      <td>0.08337</td>\n",
       "      <td>0.10521</td>\n",
       "      <td>0.04467</td>\n",
       "      <td>0.13201</td>\n",
       "      <td>0.06973</td>\n",
       "      <td>0.06725</td>\n",
       "      <td>116</td>\n",
       "      <td>67.68</td>\n",
       "      <td>3</td>\n",
       "      <td>119</td>\n",
       "    </tr>\n",
       "    <tr>\n",
       "      <th>4</th>\n",
       "      <td>Albeniz</td>\n",
       "      <td>GregoryDeTurck</td>\n",
       "      <td>USA</td>\n",
       "      <td>M</td>\n",
       "      <td>Iberia</td>\n",
       "      <td>1246</td>\n",
       "      <td>196</td>\n",
       "      <td>4/4</td>\n",
       "      <td>0.08401</td>\n",
       "      <td>0.08824</td>\n",
       "      <td>...</td>\n",
       "      <td>0.08480</td>\n",
       "      <td>0.10109</td>\n",
       "      <td>0.07221</td>\n",
       "      <td>0.09783</td>\n",
       "      <td>0.06041</td>\n",
       "      <td>0.07793</td>\n",
       "      <td>115</td>\n",
       "      <td>63.29</td>\n",
       "      <td>3</td>\n",
       "      <td>117</td>\n",
       "    </tr>\n",
       "  </tbody>\n",
       "</table>\n",
       "<p>5 rows × 24 columns</p>\n",
       "</div>"
      ],
      "text/plain": [
       "  Composer       Performer Perf_Nationality Perf_Gender                 Piece  \\\n",
       "0  Albeniz         JieChen            China           F      TrianaFromIberia   \n",
       "1  Albeniz  InesaSinkevych           Israel           F      TrianaFromIberia   \n",
       "2  Albeniz    AndrewStaupe              USA           M  EvocationsFromIberia   \n",
       "3  Albeniz  GregoryDeTurck              USA           M     RondenaFromIberia   \n",
       "4  Albeniz  GregoryDeTurck              USA           M                Iberia   \n",
       "\n",
       "   Length  Tempo Time_Signature   Freq_C  Freq_C#/Db  ...  Freq_F#/Gb  \\\n",
       "0     299    215            4/4  0.07603     0.14623  ...     0.12477   \n",
       "1     261    210            4/4  0.07430     0.14861  ...     0.12023   \n",
       "2     324    198            4/4  0.05186     0.10722  ...     0.08479   \n",
       "3     412    187            4/4  0.07866     0.06898  ...     0.08337   \n",
       "4    1246    196            4/4  0.08401     0.08824  ...     0.08480   \n",
       "\n",
       "    Freq_G  Freq_G#/Ab   Freq_A  Freq_A#/Bb   Freq_B  Unique_Velocities  \\\n",
       "0  0.03364     0.12954  0.09272     0.03709  0.08159                109   \n",
       "1  0.03612     0.12822  0.09056     0.03689  0.08127                100   \n",
       "2  0.08059     0.12964  0.03013     0.10652  0.08199                 97   \n",
       "3  0.10521     0.04467  0.13201     0.06973  0.06725                116   \n",
       "4  0.10109     0.07221  0.09783     0.06041  0.07793                115   \n",
       "\n",
       "   Average_Velocity  Min_Velocity  Max_Velocity  \n",
       "0             64.54             6           118  \n",
       "1             70.56             6           108  \n",
       "2             49.84             3           101  \n",
       "3             67.68             3           119  \n",
       "4             63.29             3           117  \n",
       "\n",
       "[5 rows x 24 columns]"
      ]
     },
     "execution_count": 21,
     "metadata": {},
     "output_type": "execute_result"
    }
   ],
   "source": [
    "# Confirm that the dataset was loaded correctly\n",
    "data.head()"
   ]
  },
  {
   "cell_type": "code",
   "execution_count": 22,
   "metadata": {},
   "outputs": [
    {
     "data": {
      "text/plain": [
       "98"
      ]
     },
     "execution_count": 22,
     "metadata": {},
     "output_type": "execute_result"
    }
   ],
   "source": [
    "# Reconfirm the total number of unique composers in the dataset\n",
    "len(data['Composer'].value_counts())"
   ]
  },
  {
   "cell_type": "code",
   "execution_count": 23,
   "metadata": {},
   "outputs": [],
   "source": [
    "# Make a dataframe of the composer occurence frequency in order to plot\n",
    "composers = data['Composer'].value_counts().to_frame()"
   ]
  },
  {
   "cell_type": "code",
   "execution_count": 24,
   "metadata": {},
   "outputs": [
    {
     "data": {
      "image/png": "[encoded data removed]",
      "text/plain": [
       "<Figure size 1440x360 with 1 Axes>"
      ]
     },
     "metadata": {
      "needs_background": "light"
     },
     "output_type": "display_data"
    }
   ],
   "source": [
    "# Plot the frequency with which each composer appears in the dataset\n",
    "plt.figure(figsize = (20,5))\n",
    "plt.bar(composers.index, composers['Composer'])\n",
    "plt.plot([0,100], [100,100])\n",
    "plt.xticks(rotation = 'vertical')\n",
    "plt.xlabel('Composers')\n",
    "plt.ylabel('Frequency')\n",
    "plt.title('Distribution of Composers in the Dataset', fontsize = 15)\n",
    "plt.show()"
   ]
  },
  {
   "cell_type": "markdown",
   "metadata": {},
   "source": [
    "Now I will identify the top 10 occuring composers in the dataset."
   ]
  },
  {
   "cell_type": "code",
   "execution_count": 25,
   "metadata": {},
   "outputs": [
    {
     "data": {
      "text/html": [
       "<div>\n",
       "<style scoped>\n",
       "    .dataframe tbody tr th:only-of-type {\n",
       "        vertical-align: middle;\n",
       "    }\n",
       "\n",
       "    .dataframe tbody tr th {\n",
       "        vertical-align: top;\n",
       "    }\n",
       "\n",
       "    .dataframe thead th {\n",
       "        text-align: right;\n",
       "    }\n",
       "</style>\n",
       "<table border=\"1\" class=\"dataframe\">\n",
       "  <thead>\n",
       "    <tr style=\"text-align: right;\">\n",
       "      <th></th>\n",
       "      <th>Composer</th>\n",
       "    </tr>\n",
       "  </thead>\n",
       "  <tbody>\n",
       "    <tr>\n",
       "      <th>Chopin</th>\n",
       "      <td>396</td>\n",
       "    </tr>\n",
       "    <tr>\n",
       "      <th>Beethoven</th>\n",
       "      <td>318</td>\n",
       "    </tr>\n",
       "    <tr>\n",
       "      <th>Liszt</th>\n",
       "      <td>283</td>\n",
       "    </tr>\n",
       "    <tr>\n",
       "      <th>Schubert</th>\n",
       "      <td>197</td>\n",
       "    </tr>\n",
       "    <tr>\n",
       "      <th>Bach</th>\n",
       "      <td>181</td>\n",
       "    </tr>\n",
       "    <tr>\n",
       "      <th>Prokofiev</th>\n",
       "      <td>114</td>\n",
       "    </tr>\n",
       "    <tr>\n",
       "      <th>Ravel</th>\n",
       "      <td>109</td>\n",
       "    </tr>\n",
       "    <tr>\n",
       "      <th>Rachmaninoff</th>\n",
       "      <td>109</td>\n",
       "    </tr>\n",
       "    <tr>\n",
       "      <th>Haydn</th>\n",
       "      <td>105</td>\n",
       "    </tr>\n",
       "    <tr>\n",
       "      <th>Schumann</th>\n",
       "      <td>98</td>\n",
       "    </tr>\n",
       "  </tbody>\n",
       "</table>\n",
       "</div>"
      ],
      "text/plain": [
       "              Composer\n",
       "Chopin             396\n",
       "Beethoven          318\n",
       "Liszt              283\n",
       "Schubert           197\n",
       "Bach               181\n",
       "Prokofiev          114\n",
       "Ravel              109\n",
       "Rachmaninoff       109\n",
       "Haydn              105\n",
       "Schumann            98"
      ]
     },
     "execution_count": 25,
     "metadata": {},
     "output_type": "execute_result"
    }
   ],
   "source": [
    "# Here I will identify the most frequent composers and how many observations in the data there are of each\n",
    "composers.head(10)"
   ]
  },
  {
   "cell_type": "code",
   "execution_count": 26,
   "metadata": {},
   "outputs": [],
   "source": [
    "# I will create a new dataframe of just the top 10 composers\n",
    "top_composers = composers.head(10)"
   ]
  },
  {
   "cell_type": "code",
   "execution_count": 27,
   "metadata": {},
   "outputs": [
    {
     "data": {
      "text/plain": [
       "1910"
      ]
     },
     "execution_count": 27,
     "metadata": {},
     "output_type": "execute_result"
    }
   ],
   "source": [
    "# Here I will calculate the total number of observations present among all the top composers\n",
    "top_composers_files = sum(top_composers['Composer'])\n",
    "top_composers_files"
   ]
  },
  {
   "cell_type": "code",
   "execution_count": 28,
   "metadata": {},
   "outputs": [
    {
     "name": "stdout",
     "output_type": "stream",
     "text": [
      "The top 10 composers account for 73.8306919211442% of all midi files in the dataset\n"
     ]
    }
   ],
   "source": [
    "# Here I will calculate the proportion of the dataset accounted for by just the top 10 composers\n",
    "print(f'The top 10 composers account for {top_composers_files / data.shape[0] * 100}% of all midi files in the dataset')"
   ]
  },
  {
   "cell_type": "markdown",
   "metadata": {},
   "source": [
    "The top 10 most frequent composers in the dataset account for over 73% of all performance files in the dataset. This indicates that a classifier of 10 classes is a reasonable representation of the dataset I have obtained. Now that I know which composers I will be classifying for, I can move all of the relevant files into a new `Composers` directory. This will be done outside of python in the file explorer (for evaluation of this project, this step has already been performed, and the directory structure created).\n",
    "\n",
    "Now I am ready for the preprocessing of the data. As with the previous model, the first step in data preprocessing is to quantize (bin) all of the pertinent performance files. For the first model, I quantized the human performance files to the nearest 32nd note with a quantization of '8'. In order to increase the musical data I am able to include in the eventual 100 row long array clips, I will instead quantize the midi files to the nearest 16th note, using the quantization value of '4'.\n",
    "\n",
    "As opposed to the first model data preprocessing, all preprocessing will be done inline in this one notebook before starting a new notebook for the modeling process."
   ]
  },
  {
   "cell_type": "code",
   "execution_count": 41,
   "metadata": {},
   "outputs": [
    {
     "name": "stdout",
     "output_type": "stream",
     "text": [
      "Processed 1907 files.\n",
      "Done\n"
     ]
    }
   ],
   "source": [
    "'''********************************************'''\n",
    "quantization = 4\n",
    "'''********************************************'''\n",
    "\n",
    "# Create a count of all files processed\n",
    "file_count = 0\n",
    "\n",
    "# I will iterate over all composer folders in the Composers directory\n",
    "for folder in os.listdir('Composers/Composers/'):\n",
    "\n",
    "    # Within each composer folder, I will iterate over each file \n",
    "    for file in os.listdir(f'Composers/Composers/{folder}/'):\n",
    "\n",
    "        # I will start by importing each midi file as a mido object\n",
    "        clip = MidiFile(f'Composers/Composers/{folder}/{file}')\n",
    "        \n",
    "        # Using the quantization value, I can calculate the time ticks per beat quantization\n",
    "        ticks_per_quant = int(clip.ticks_per_beat / quantization)\n",
    "        assert clip.ticks_per_beat % quantization == 0, 'ERROR: Quantization if too Fine.'\n",
    "\n",
    "        # Instantiate my counting variables for keeping track of time\n",
    "        cum_time = 0\n",
    "        btw_note = 0\n",
    "\n",
    "        # This loop will return the message number of the first note_on message\n",
    "        for note_msgs, msg in enumerate(clip.tracks[0]):\n",
    "            if msg.type == 'note_on':\n",
    "                break\n",
    "        # This variable will identify the note that switched from one quantization bin to the next\n",
    "        switch = False\n",
    "\n",
    "        # Here I will iterate over all messages starting with the first note_on message found above\n",
    "        for msg in clip.tracks[0][note_msgs:]:\n",
    "\n",
    "            # All times are time deltas, so I will create a cumulative time variable\n",
    "            cum_time += msg.time\n",
    "\n",
    "            # Here I am using the time ticks per quantum and the cumulative time to bin each note\n",
    "            '''\n",
    "            If the remainder of cum_time/ticks_per_quant is less than 75% of the distance from one quantization \n",
    "            to the next, then the note is binned with a time delta of 0 (back to the previous beat).\n",
    "            If the remainder is greater than 75% and switch is false, then the message time delta will be set\n",
    "            to the number of ticks per quant (bin size), and switch will be set to true (binned to the next beat).\n",
    "            The switch variable will ensure that only the first note of all notes falling between > 75% of\n",
    "            a quantum, and the next quantum will be coded with the new quantum time.\n",
    "            Once the new quantum time delta has been established, all other note_on messages will be binned\n",
    "            with a time delta of zero.\n",
    "            '''\n",
    "            if (cum_time % ticks_per_quant) <= (ticks_per_quant * 0.5):\n",
    "                msg.time = 0\n",
    "                switch = False\n",
    "\n",
    "            elif (cum_time % ticks_per_quant) > (ticks_per_quant * 0.5) and switch == False:\n",
    "                msg.time = int(ticks_per_quant)\n",
    "                switch = True\n",
    "\n",
    "            elif (msg.type == 'note_on'):\n",
    "                msg.time = 0\n",
    "\n",
    "        # Since time deltas have been changed as a function of the quantization, the time must be ajusted\n",
    "        # to maintain the original tempo\n",
    "        for msg in clip.tracks[0][note_msgs:]:\n",
    "            msg.time = int(msg.time * (quantization / 4))\n",
    "\n",
    "        # Before saving, I want to make sure that all times less than the quantization time are set to an\n",
    "        # integer value of zero\n",
    "        # This will also bin all note_off messages back to the nearest bin (16th note)\n",
    "        for msg in clip.tracks[0][note_msgs:]:\n",
    "            if msg.time < int((ticks_per_quant) * (quantization / 4) - 1):\n",
    "                msg.time = int(0)\n",
    "\n",
    "        # Here I save the new quantized midi file\n",
    "        clip.save(filename = f'Composers/Composer_Quantized_Midi/{folder}/{file}')\n",
    "\n",
    "        file_count += 1    \n",
    "        print(f'Processed {file_count} files.', end = '\\r')\n",
    "    \n",
    "print('\\nDone')"
   ]
  },
  {
   "cell_type": "markdown",
   "metadata": {},
   "source": [
    "Now that each midi file has been quantized (binned) to the nearest 16th note, I need to convert each midi file to a numpy array."
   ]
  },
  {
   "cell_type": "code",
   "execution_count": 52,
   "metadata": {},
   "outputs": [
    {
     "name": "stdout",
     "output_type": "stream",
     "text": [
      "Processed 1907 arrays.\r"
     ]
    }
   ],
   "source": [
    "# Instantiate a counting variable for output message\n",
    "file_count = 0\n",
    "\n",
    "# Iterate over all composer folders in the Composer_Quantized_Midi directory\n",
    "for folder in os.listdir('Composers/Composer_Quantized_Midi/'):\n",
    "\n",
    "    # Iterate over each file in each composer folder\n",
    "    for file in os.listdir(f'Composers/Composer_Quantized_Midi/{folder}'):\n",
    "\n",
    "        # Create another mido object of each quantized midi file\n",
    "        clip = MidiFile(f'Composers/Composer_Quantized_Midi/{folder}/{file}')\n",
    "\n",
    "        # Once again I will find the first note message since meta data will be ignored when creating the array\n",
    "        for note_msgs, msg in enumerate(clip.tracks[0]):\n",
    "            if msg.type == 'note_on':\n",
    "                break\n",
    "\n",
    "        # I will instantiate a list to hold all time steps\n",
    "        track_list = []\n",
    "        # I will also instantiate my new time_step list of 88 zeros (one for each piano key)\n",
    "        time_step = [0] * 88\n",
    "        \n",
    "        # I will iterate over every midi message starting with the first note message\n",
    "        for msg in clip.tracks[0][note_msgs:]:\n",
    "            \n",
    "            # If the new time bin (time > 0) starts with a non-note message, the current time_step will be appended\n",
    "            # and a blank time_step will be instantiated\n",
    "            if (msg.type != 'note_on') and (msg.type != 'note_off') and (msg.time > 0):  \n",
    "                track_list.append(time_step)\n",
    "                time_step = [0] * 88\n",
    "            \n",
    "            # If the new time bin (time > 0) starts with a note message, the current time_step will be appended to\n",
    "            # the track list, and a new time_step will be instantiated\n",
    "            # This note will then be inserted into the newly instantiated time_step list at its note index\n",
    "            elif (msg.type == 'note_on' or msg.type == 'note_off') and (msg.time > 0):\n",
    "                track_list.append(time_step)\n",
    "                time_step = [0] *88\n",
    "                note = (msg.note - 21)\n",
    "                time_step[note] = msg.velocity\n",
    "            \n",
    "            # If the message is a note message, and the time step is zero, this note velocity will be\n",
    "            # input into the time_step list at the index of the note number\n",
    "            elif (msg.type == 'note_on' or msg.type == 'note_off') and (msg.time == 0):\n",
    "                note = (msg.note - 21)\n",
    "                time_step[note] = msg.velocity\n",
    "\n",
    "        # I will append any remaining partial bin to the track list\n",
    "        if sum(time_step) > 0:\n",
    "            track_list.append(time_step)\n",
    "        else:\n",
    "            pass\n",
    "\n",
    "        # Here I will convert my list of time_step lists to an array\n",
    "        track_array = np.array(track_list)\n",
    "        name = file[: -4] + '.npy'\n",
    "        \n",
    "        # After changing the file extention, I will save the new array created for each midi file\n",
    "        np.save(f'Composers/Composer_Arrays/{folder}/{name}', track_array)\n",
    "\n",
    "        file_count += 1    \n",
    "        print(f'Processed {file_count} arrays.', end = '\\r')\n",
    "        \n",
    "print('\\nDone')"
   ]
  },
  {
   "cell_type": "markdown",
   "metadata": {},
   "source": [
    "Again, because of the clip sampling that will be coming shortly, I must avoid data leakage into the validation and test sets. Therefore, these sets will be separated out now prior to random clip sampling."
   ]
  },
  {
   "cell_type": "code",
   "execution_count": 3,
   "metadata": {},
   "outputs": [
    {
     "name": "stdout",
     "output_type": "stream",
     "text": [
      "Moved 294 arrays into the validation set.\n",
      "Done\n"
     ]
    }
   ],
   "source": [
    "files_moved = 0\n",
    "\n",
    "# I will iterate over each folder (Humand/Computer) within the directory\n",
    "for folder in os.listdir('Composers/Composer_Arrays/'):\n",
    "\n",
    "    # Here I will count the number of files in the folder, and identify 10% of that number\n",
    "    num_files = len(os.listdir(f'Composers/Composer_Arrays/{folder}/'))\n",
    "    num_files_test = int(num_files / 10) # Used for selecting 10% of data\n",
    "    \n",
    "    # For 10% of the files in the folder, I will randomly select and move this 10% to the validation folder\n",
    "    for i in range (0, num_files_test):\n",
    "        file = random.choice(os.listdir(f'Composers/Composer_Arrays/{folder}/'))\n",
    "        shutil.move(f'Composers/Composer_Arrays/{folder}/{file}', f'Composers/Composer_Test_Set_Arrays/{folder}/{file}')\n",
    "        \n",
    "        files_moved += 1    \n",
    "        print(f'Moved {files_moved} arrays into the test set.', end = '\\r')\n",
    "    \n",
    "    # For 10% of the files in the folder, I will randomly select and move this 10% to the test folder\n",
    "    for i in range (0, num_files_test):\n",
    "        file = random.choice(os.listdir(f'Composers/Composer_Arrays/{folder}/'))\n",
    "        shutil.move(f'Composers/Composer_Arrays/{folder}/{file}', f'Composers/Composer_Validation_Set_Arrays/{folder}/{file}')\n",
    "        \n",
    "        files_moved += 1    \n",
    "        print(f'Moved {files_moved} arrays into the validation set.', end = '\\r')\n",
    "        \n",
    "print('\\nDone')"
   ]
  },
  {
   "cell_type": "markdown",
   "metadata": {},
   "source": [
    "Now that my validation and test sets have been split from the training set, I can randomly sample array clips of 100 row length from the arrays in each of the training, validation, and test sets. These samplings will be performed separately below."
   ]
  },
  {
   "cell_type": "markdown",
   "metadata": {},
   "source": [
    "#### Training Set Sampling"
   ]
  },
  {
   "cell_type": "code",
   "execution_count": 4,
   "metadata": {},
   "outputs": [
    {
     "name": "stdout",
     "output_type": "stream",
     "text": [
      "Processed 50000 array clips.\n",
      "Done\n"
     ]
    }
   ],
   "source": [
    "count = 0\n",
    "\n",
    "# I will iterate through each composer file in the composer array directory\n",
    "for folder in os.listdir('Composers/Composer_Arrays/'):\n",
    "\n",
    "    # I will create 5000 array clips for every composer (50,000 array clips total)\n",
    "    for i in range(0, 5000):\n",
    "        \n",
    "        # I will start by selecting and loading a file at random for the current composer file\n",
    "        file = random.choice(os.listdir(f'Composers/Composer_Arrays/{folder}/'))\n",
    "        # I will also instantiate a new name\n",
    "        name = ''\n",
    "        array = np.load(f'Composers/Composer_Arrays/{folder}/{file}')\n",
    "\n",
    "        # I will randomly select a 100 row length sample from each array for modeling\n",
    "        # I will do this by randomly selecting a starting row from the length of the array less 100 rows\n",
    "        length = (len(array) - 100)\n",
    "        start = random.randint(0, length)\n",
    "        end = start + 100\n",
    "        array = array[start: end]\n",
    "\n",
    "        # I will create a new file name and save the array clip\n",
    "        name = 'CLIP--' + str(count) + '--' + file\n",
    "        np.save(f'Composers/Composer_Data/{folder}/{name}', array)\n",
    "\n",
    "        count += 1    \n",
    "        print(f'Processed {count} array clips.', end = '\\r')\n",
    "        \n",
    "print('\\nDone')"
   ]
  },
  {
   "cell_type": "markdown",
   "metadata": {},
   "source": [
    "#### Test Set Sampling"
   ]
  },
  {
   "cell_type": "code",
   "execution_count": 5,
   "metadata": {},
   "outputs": [
    {
     "name": "stdout",
     "output_type": "stream",
     "text": [
      "Processed 5000 array clips.\n",
      "Done\n"
     ]
    }
   ],
   "source": [
    "count = 0\n",
    "\n",
    "# Similarly I will complete the above process for the test set\n",
    "for folder in os.listdir('Composers/Composer_Test_Set_Arrays/'):\n",
    "\n",
    "    # For the test set I will create 500 sample clips\n",
    "    for i in range(0, 500):\n",
    "        # I will randomly select an array from the test folder\n",
    "        file = random.choice(os.listdir(f'Composers/Composer_Test_Set_Arrays/{folder}/'))\n",
    "        name = ''\n",
    "        # Load each array\n",
    "        array = np.load(f'Composers/Composer_Test_Set_Arrays/{folder}/{file}')\n",
    "\n",
    "        # I will randomly select a 100 length sample from each array for modeling\n",
    "        length = (len(array) - 100)\n",
    "        start = random.randint(0, length)\n",
    "        end = start + 100\n",
    "        array = array[start: end]\n",
    "\n",
    "        # I will create a new file name and save the array clip\n",
    "        name = 'TEST_CLIP--' + str(count) + '--' + file\n",
    "        np.save(f'Composers/Composer_Test_Set_Data/{folder}/{name}', array)\n",
    "\n",
    "        count += 1    \n",
    "        print(f'Processed {count} array clips.', end = '\\r')\n",
    "        \n",
    "print('\\nDone')"
   ]
  },
  {
   "cell_type": "markdown",
   "metadata": {},
   "source": [
    "#### Validation Set Sampling"
   ]
  },
  {
   "cell_type": "code",
   "execution_count": 6,
   "metadata": {},
   "outputs": [
    {
     "name": "stdout",
     "output_type": "stream",
     "text": [
      "Processed 5000 array clips.\n",
      "Done\n"
     ]
    }
   ],
   "source": [
    "count = 0\n",
    "\n",
    "# And once again for the validation set (iterate over each composer folder)\n",
    "for folder in os.listdir('Composers/Composer_Validation_Set_Arrays/'):\n",
    "\n",
    "    # Once again I will create 500 validation samples for each composer\n",
    "    for i in range(0, 500):\n",
    "        file = random.choice(os.listdir(f'Composers/Composer_Validation_Set_Arrays/{folder}/'))\n",
    "        name = ''\n",
    "        # Load each array\n",
    "        array = np.load(f'Composers/Composer_Validation_Set_Arrays/{folder}/{file}')\n",
    "\n",
    "        # I will randomly select a 100 length sample from each array for modeling\n",
    "        length = (len(array) - 100)\n",
    "        start = random.randint(0, length)\n",
    "        end = start + 100\n",
    "        array = array[start: end]\n",
    "\n",
    "        # I will create a new file name and save the array clip\n",
    "        name = 'VAL_CLIP--' + str(count) + '--' + file\n",
    "        np.save(f'Composers/Composer_Validation_Set_Data/{folder}/{name}', array)\n",
    "\n",
    "        count += 1    \n",
    "        print(f'Processed {count} array clips.', end = '\\r')\n",
    "        \n",
    "print('\\nDone')"
   ]
  },
  {
   "cell_type": "markdown",
   "metadata": {},
   "source": [
    "I have now completed all my required data preprocessing in order to build and train my new composer classification model."
   ]
  },
  {
   "cell_type": "markdown",
   "metadata": {},
   "source": [
    "<p style='text-align: right;'> <b> Next Step: </b> Build RNN for Composer Classification - <em> RNN_Model_Composers.ipynb </em> </p>"
   ]
  }
 ],
 "metadata": {
  "kernelspec": {
   "display_name": "Python 3",
   "language": "python",
   "name": "python3"
  },
  "language_info": {
   "codemirror_mode": {
    "name": "ipython",
    "version": 3
   },
   "file_extension": ".py",
   "mimetype": "text/x-python",
   "name": "python",
   "nbconvert_exporter": "python",
   "pygments_lexer": "ipython3",
   "version": "3.8.3"
  }
 },
 "nbformat": 4,
 "nbformat_minor": 4
}
