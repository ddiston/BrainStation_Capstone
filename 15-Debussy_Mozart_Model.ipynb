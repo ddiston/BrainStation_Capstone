{
 "cells": [
  {
   "cell_type": "markdown",
   "metadata": {},
   "source": [
    "*Debussy_Mozart_Model.ipynb* <p style='text-align: right;'> <b> September 20th 2020 </b> </p>\n",
    "<p style='text-align: right;'> <b> David Diston </b> </p>"
   ]
  },
  {
   "cell_type": "markdown",
   "metadata": {},
   "source": [
    "# Build an LSTM RNN to Classify Music by Debussy and Mozart"
   ]
  },
  {
   "cell_type": "markdown",
   "metadata": {},
   "source": [
    "***Once again, trial-and-error tuning was performed when developing this model. The final model iteration is shown here***\n",
    "\n",
    "Here I will build an LSTM RNN that will attempt to classify music as either having been composed by Debussy (1862-1918) and Mozart (1756-1791). Both of these composers are from different compositional epochs, and of different nationalities (Debussy-French, Mozart-Austrian). Since they compose in a very different style, I hypothesise that this model will have an easier time classifying compared to my other models.\n",
    "\n",
    "As with the data preprocessing notebook, this model notebook follows the same structure as the last model notebook. Therefore, the explainatory commenting will be lower in quantity and focus on differences between these notebooks. If further clarification is required please refer to the `11-RNN_Model_Composers.ipynb` notebook."
   ]
  },
  {
   "cell_type": "code",
   "execution_count": 1,
   "metadata": {},
   "outputs": [],
   "source": [
    "import numpy as np\n",
    "import os\n",
    "import tensorflow\n",
    "import random\n",
    "\n",
    "from tensorflow import keras\n",
    "from tensorflow.keras.models import Sequential\n",
    "from tensorflow.keras.layers import Dense, Dropout, LSTM\n",
    "from tensorflow.keras.optimizers import Adam\n",
    "from tensorflow.keras.callbacks import ModelCheckpoint"
   ]
  },
  {
   "cell_type": "code",
   "execution_count": 2,
   "metadata": {},
   "outputs": [],
   "source": [
    "def training_set(cat, datdir):\n",
    "    for category in cat:\n",
    "        path = os.path.join(datdir, category)\n",
    "        class_num = categories.index(category)\n",
    "        for array in os.listdir(path):\n",
    "            try:\n",
    "                midi_array = np.load(os.path.join(path, array))\n",
    "                training_data.append([midi_array, class_num])\n",
    "            except Exception as e:\n",
    "                pass"
   ]
  },
  {
   "cell_type": "code",
   "execution_count": 3,
   "metadata": {},
   "outputs": [],
   "source": [
    "# Load Training Data\n",
    "datadirectory = 'C:/Users/David Diston/Documents/CapstonePythonScripts/2Comp/2Comp_Data'\n",
    "categories = ['Debussy', 'Mozart']\n",
    "\n",
    "training_data = []\n",
    "\n",
    "training_set(categories, datadirectory)\n",
    "\n",
    "random.shuffle(training_data)\n",
    "\n",
    "X = []\n",
    "y = []\n",
    "\n",
    "for features, label in training_data:\n",
    "    X.append(features)\n",
    "    y.append(label)"
   ]
  },
  {
   "cell_type": "code",
   "execution_count": 4,
   "metadata": {},
   "outputs": [],
   "source": [
    "# Load Test Data\n",
    "datadirectory = 'C:/Users/David Diston/Documents/CapstonePythonScripts/2Comp/2Comp_Validation_Set_Data'\n",
    "categories = ['Debussy', 'Mozart']\n",
    "    \n",
    "training_data = []\n",
    "    \n",
    "training_set(categories, datadirectory)\n",
    "\n",
    "random.shuffle(training_data)\n",
    "\n",
    "X_val = []\n",
    "y_val = []\n",
    "\n",
    "for features, label in training_data:\n",
    "    X_val.append(features)\n",
    "    y_val.append(label)"
   ]
  },
  {
   "cell_type": "code",
   "execution_count": 5,
   "metadata": {},
   "outputs": [],
   "source": [
    "# Convert to array and transform\n",
    "X_train = np.array(X).reshape(-1, 200, 88)\n",
    "y_train = np.array(y)\n",
    "X_val = np.array(X_val).reshape(-1, 200, 88)\n",
    "y_val = np.array(y_val)\n",
    "\n",
    "# Normalize\n",
    "X_train = X_train / 127\n",
    "X_val = X_val / 127"
   ]
  },
  {
   "cell_type": "code",
   "execution_count": 9,
   "metadata": {},
   "outputs": [],
   "source": [
    "# Instantiate the model\n",
    "Debussy_Mozart_model = Sequential()\n",
    "\n",
    "Debussy_Mozart_model.add(LSTM(44, input_shape = (X_train.shape[1:]), activation = 'relu', return_sequences = True))\n",
    "Debussy_Mozart_model.add(Dropout(0.1))\n",
    "\n",
    "Debussy_Mozart_model.add(LSTM(44, activation='relu'))\n",
    "Debussy_Mozart_model.add(Dropout(0.1))\n",
    "\n",
    "Debussy_Mozart_model.add(Dense(1408, activation='relu'))\n",
    "Debussy_Mozart_model.add(Dropout(0.1))\n",
    "\n",
    "Debussy_Mozart_model.add(Dense(2, activation='sigmoid'))"
   ]
  },
  {
   "cell_type": "code",
   "execution_count": 10,
   "metadata": {},
   "outputs": [
    {
     "name": "stdout",
     "output_type": "stream",
     "text": [
      "Model: \"sequential_1\"\n",
      "_________________________________________________________________\n",
      "Layer (type)                 Output Shape              Param #   \n",
      "=================================================================\n",
      "lstm_2 (LSTM)                (None, 200, 44)           23408     \n",
      "_________________________________________________________________\n",
      "dropout_3 (Dropout)          (None, 200, 44)           0         \n",
      "_________________________________________________________________\n",
      "lstm_3 (LSTM)                (None, 44)                15664     \n",
      "_________________________________________________________________\n",
      "dropout_4 (Dropout)          (None, 44)                0         \n",
      "_________________________________________________________________\n",
      "dense_2 (Dense)              (None, 1408)              63360     \n",
      "_________________________________________________________________\n",
      "dropout_5 (Dropout)          (None, 1408)              0         \n",
      "_________________________________________________________________\n",
      "dense_3 (Dense)              (None, 2)                 2818      \n",
      "=================================================================\n",
      "Total params: 105,250\n",
      "Trainable params: 105,250\n",
      "Non-trainable params: 0\n",
      "_________________________________________________________________\n"
     ]
    }
   ],
   "source": [
    "# Define optimizer\n",
    "opt = Adam(lr = 0.0001, decay = 0.00001, clipvalue=0.5)\n",
    "\n",
    "# Compile model\n",
    "Debussy_Mozart_model.compile(\n",
    "    loss='sparse_categorical_crossentropy',\n",
    "    optimizer = opt,\n",
    "    metrics=['accuracy'])\n",
    "\n",
    "Debussy_Mozart_model.summary()"
   ]
  },
  {
   "cell_type": "code",
   "execution_count": 11,
   "metadata": {},
   "outputs": [
    {
     "name": "stdout",
     "output_type": "stream",
     "text": [
      "Epoch 1/15\n",
      "200/200 [==============================] - ETA: 0s - loss: 0.6924 - accuracy: 0.5325\n",
      "Epoch 00001: val_accuracy improved from -inf to 0.62500, saving model to Models/Debussy_Mozart_model.hdf5\n",
      "200/200 [==============================] - 10s 50ms/step - loss: 0.6924 - accuracy: 0.5325 - val_loss: 0.6893 - val_accuracy: 0.6250\n",
      "Epoch 2/15\n",
      "199/200 [============================>.] - ETA: 0s - loss: 0.6851 - accuracy: 0.7191\n",
      "Epoch 00002: val_accuracy improved from 0.62500 to 0.86500, saving model to Models/Debussy_Mozart_model.hdf5\n",
      "200/200 [==============================] - 10s 49ms/step - loss: 0.6987 - accuracy: 0.7190 - val_loss: 1.2324 - val_accuracy: 0.8650\n",
      "Epoch 3/15\n",
      "200/200 [==============================] - ETA: 0s - loss: 1.8696 - accuracy: 0.7870\n",
      "Epoch 00003: val_accuracy improved from 0.86500 to 0.88000, saving model to Models/Debussy_Mozart_model.hdf5\n",
      "200/200 [==============================] - 10s 49ms/step - loss: 1.8696 - accuracy: 0.7870 - val_loss: 0.5891 - val_accuracy: 0.8800\n",
      "Epoch 4/15\n",
      "199/200 [============================>.] - ETA: 0s - loss: 1.9499 - accuracy: 0.8045\n",
      "Epoch 00004: val_accuracy did not improve from 0.88000\n",
      "200/200 [==============================] - 10s 49ms/step - loss: 1.9727 - accuracy: 0.8035 - val_loss: 3.0594 - val_accuracy: 0.7200\n",
      "Epoch 5/15\n",
      "200/200 [==============================] - ETA: 0s - loss: 1.8358 - accuracy: 0.8135\n",
      "Epoch 00005: val_accuracy improved from 0.88000 to 0.89500, saving model to Models/Debussy_Mozart_model.hdf5\n",
      "200/200 [==============================] - 10s 49ms/step - loss: 1.8358 - accuracy: 0.8135 - val_loss: 1.1049 - val_accuracy: 0.8950\n",
      "Epoch 6/15\n",
      "199/200 [============================>.] - ETA: 0s - loss: 0.9562 - accuracy: 0.8829\n",
      "Epoch 00006: val_accuracy did not improve from 0.89500\n",
      "200/200 [==============================] - 10s 49ms/step - loss: 0.9608 - accuracy: 0.8820 - val_loss: 1.5032 - val_accuracy: 0.8600\n",
      "Epoch 7/15\n",
      "200/200 [==============================] - ETA: 0s - loss: 0.9957 - accuracy: 0.8270\n",
      "Epoch 00007: val_accuracy improved from 0.89500 to 0.90000, saving model to Models/Debussy_Mozart_model.hdf5\n",
      "200/200 [==============================] - 10s 49ms/step - loss: 0.9957 - accuracy: 0.8270 - val_loss: 0.8543 - val_accuracy: 0.9000\n",
      "Epoch 8/15\n",
      "200/200 [==============================] - ETA: 0s - loss: 0.6861 - accuracy: 0.7355\n",
      "Epoch 00008: val_accuracy did not improve from 0.90000\n",
      "200/200 [==============================] - 10s 48ms/step - loss: 0.6861 - accuracy: 0.7355 - val_loss: 1.1243 - val_accuracy: 0.8600\n",
      "Epoch 9/15\n",
      "200/200 [==============================] - ETA: 0s - loss: 0.9293 - accuracy: 0.8795\n",
      "Epoch 00009: val_accuracy did not improve from 0.90000\n",
      "200/200 [==============================] - 10s 48ms/step - loss: 0.9293 - accuracy: 0.8795 - val_loss: 1.1914 - val_accuracy: 0.8550\n",
      "Epoch 10/15\n",
      "200/200 [==============================] - ETA: 0s - loss: 1.0710 - accuracy: 0.8905\n",
      "Epoch 00010: val_accuracy did not improve from 0.90000\n",
      "200/200 [==============================] - 10s 49ms/step - loss: 1.0710 - accuracy: 0.8905 - val_loss: 1.4973 - val_accuracy: 0.8400\n",
      "Epoch 11/15\n",
      "200/200 [==============================] - ETA: 0s - loss: 0.8288 - accuracy: 0.8955\n",
      "Epoch 00011: val_accuracy did not improve from 0.90000\n",
      "200/200 [==============================] - 10s 49ms/step - loss: 0.8288 - accuracy: 0.8955 - val_loss: 1.0164 - val_accuracy: 0.8650\n",
      "Epoch 12/15\n",
      "200/200 [==============================] - ETA: 0s - loss: 0.9249 - accuracy: 0.8860\n",
      "Epoch 00012: val_accuracy did not improve from 0.90000\n",
      "200/200 [==============================] - 10s 48ms/step - loss: 0.9249 - accuracy: 0.8860 - val_loss: 1.2309 - val_accuracy: 0.8700\n",
      "Epoch 13/15\n",
      "199/200 [============================>.] - ETA: 0s - loss: 0.8515 - accuracy: 0.8809\n",
      "Epoch 00013: val_accuracy did not improve from 0.90000\n",
      "200/200 [==============================] - 10s 48ms/step - loss: 0.8641 - accuracy: 0.8800 - val_loss: 1.0677 - val_accuracy: 0.8850\n",
      "Epoch 14/15\n",
      "200/200 [==============================] - ETA: 0s - loss: 0.9223 - accuracy: 0.8960\n",
      "Epoch 00014: val_accuracy did not improve from 0.90000\n",
      "200/200 [==============================] - 10s 48ms/step - loss: 0.9223 - accuracy: 0.8960 - val_loss: 1.2178 - val_accuracy: 0.8800\n",
      "Epoch 15/15\n",
      "199/200 [============================>.] - ETA: 0s - loss: 0.9203 - accuracy: 0.8799\n",
      "Epoch 00015: val_accuracy did not improve from 0.90000\n",
      "200/200 [==============================] - 10s 48ms/step - loss: 0.9240 - accuracy: 0.8800 - val_loss: 0.9384 - val_accuracy: 0.8900\n"
     ]
    },
    {
     "data": {
      "text/plain": [
       "<tensorflow.python.keras.callbacks.History at 0x17161e79708>"
      ]
     },
     "execution_count": 11,
     "metadata": {},
     "output_type": "execute_result"
    }
   ],
   "source": [
    "# Create checkpoint to record best weights\n",
    "checkpoint = ModelCheckpoint('Models/Debussy_Mozart_model.hdf5', monitor='val_accuracy', verbose=1, save_best_only=True, mode='max')\n",
    "callbacks_list = [checkpoint]\n",
    "\n",
    "# Train the model\n",
    "Debussy_Mozart_model.fit(X_train, y_train,\n",
    "               batch_size = 10,\n",
    "               epochs = 15,\n",
    "               validation_data=(X_val, y_val),\n",
    "               callbacks=callbacks_list)"
   ]
  },
  {
   "cell_type": "code",
   "execution_count": 12,
   "metadata": {
    "scrolled": true
   },
   "outputs": [
    {
     "name": "stdout",
     "output_type": "stream",
     "text": [
      "WARNING:tensorflow:From C:\\Users\\David Diston\\anaconda3\\envs\\bs_capstone\\lib\\site-packages\\tensorflow\\python\\ops\\resource_variable_ops.py:1817: calling BaseResourceVariable.__init__ (from tensorflow.python.ops.resource_variable_ops) with constraint is deprecated and will be removed in a future version.\n",
      "Instructions for updating:\n",
      "If using Keras pass *_constraint arguments to layers.\n",
      "INFO:tensorflow:Assets written to: Models/Debussy_Mozart_model\\assets\n"
     ]
    }
   ],
   "source": [
    "# Save the model\n",
    "Debussy_Mozart_model.save('Models/Debussy_Mozart_model')"
   ]
  },
  {
   "cell_type": "markdown",
   "metadata": {},
   "source": [
    "### Model Evaluation"
   ]
  },
  {
   "cell_type": "code",
   "execution_count": 13,
   "metadata": {},
   "outputs": [],
   "source": [
    "from sklearn.metrics import classification_report\n",
    "from sklearn.metrics import confusion_matrix\n",
    "import itertools\n",
    "import matplotlib.pyplot as plt"
   ]
  },
  {
   "cell_type": "code",
   "execution_count": 14,
   "metadata": {},
   "outputs": [],
   "source": [
    "# Function to plot confusion matrix\n",
    "def plot_confusion_matrix(cm, classes, cmap=plt.cm.Blues):\n",
    "\n",
    "    plt.imshow(cm, interpolation='nearest', cmap=cmap)\n",
    "    plt.colorbar()\n",
    "    tick_marks = np.arange(len(classes))\n",
    "    plt.xticks(tick_marks, classes, rotation=45)\n",
    "    plt.yticks(tick_marks, classes)\n",
    "\n",
    "    thresh = cm.max() / 2\n",
    "    for i, j in itertools.product(range(cm.shape[0]), range(cm.shape[1])):\n",
    "        plt.text(j, i, format(cm[i, j]),\n",
    "                 horizontalalignment=\"center\",\n",
    "                 color=\"white\" if cm[i, j] > thresh else \"black\")\n",
    "\n",
    "    plt.ylabel('True label')\n",
    "    plt.xlabel('Predicted label')\n",
    "    plt.tight_layout()"
   ]
  },
  {
   "cell_type": "code",
   "execution_count": 15,
   "metadata": {},
   "outputs": [],
   "source": [
    "# Load Test Data\n",
    "datadirectory = 'C:/Users/David Diston/Documents/CapstonePythonScripts/2Comp/2Comp_Test_Set_Data'\n",
    "categories = ['Debussy', 'Mozart']\n",
    "    \n",
    "training_data = []\n",
    "    \n",
    "training_set(categories, datadirectory)\n",
    "\n",
    "random.shuffle(training_data)\n",
    "\n",
    "X_test = []\n",
    "y_test = []\n",
    "\n",
    "for features, label in training_data:\n",
    "    X_test.append(features)\n",
    "    y_test.append(label)\n",
    "    \n",
    "X_test = np.array(X_test).reshape(-1, 200, 88)\n",
    "y_test = np.array(y_test)\n",
    "\n",
    "# Normalization\n",
    "X_test = X_test / 127"
   ]
  },
  {
   "cell_type": "code",
   "execution_count": 16,
   "metadata": {
    "scrolled": false
   },
   "outputs": [
    {
     "data": {
      "image/png": "[encoded data removed]",
      "text/plain": [
       "<Figure size 576x576 with 2 Axes>"
      ]
     },
     "metadata": {
      "needs_background": "light"
     },
     "output_type": "display_data"
    }
   ],
   "source": [
    "# Find test predictions\n",
    "results = Debussy_Mozart_model.predict(X_test, batch_size = 10)\n",
    "\n",
    "# Convert from class probabilities to actual class predictions\n",
    "predicted_classes = np.argmax(results, axis=1)\n",
    "\n",
    "# Names of predicted classes\n",
    "class_names = ['Debussy', 'Mozart']\n",
    "\n",
    "# Generate the confusion matrix\n",
    "cnf_matrix = confusion_matrix(y_test, predicted_classes)\n",
    "\n",
    "# Plot confusion matrix\n",
    "plt.figure(figsize = (8,8))\n",
    "plot_confusion_matrix(cnf_matrix, classes=class_names)\n",
    "plt.show()"
   ]
  },
  {
   "cell_type": "code",
   "execution_count": 17,
   "metadata": {
    "scrolled": false
   },
   "outputs": [
    {
     "name": "stdout",
     "output_type": "stream",
     "text": [
      "              precision    recall  f1-score   support\n",
      "\n",
      "           0       0.96      0.86      0.91       100\n",
      "           1       0.87      0.96      0.91       100\n",
      "\n",
      "    accuracy                           0.91       200\n",
      "   macro avg       0.91      0.91      0.91       200\n",
      "weighted avg       0.91      0.91      0.91       200\n",
      "\n"
     ]
    }
   ],
   "source": [
    "# Print Classification report\n",
    "CR = classification_report(y_test, predicted_classes)\n",
    "print(CR)"
   ]
  },
  {
   "cell_type": "markdown",
   "metadata": {},
   "source": [
    "As expected, the classification accuracy of this model is quite high. As the compositional styles of Debussy and Mozart are quite different it makes sense that the model would have a comparatively easy time classifying between the two.\n",
    "\n",
    "The observation that the model miss-classified Debussy more often than Mozart is interesting. Based on the findings from my other models, and my own musical background, I would hazard the guess that this is because Mozarts compositional style is more rigid and formulaic, while Debussy composes in a much more liberal late Romantic style, even encorporating elements of early modernism in his music. Overall with 90% validation accuracy and 91% test accuracy, I would absolutely classify this model a success, and conclude that my earlier hypothesis stating that composers of different epochs and nationalities are easier to classify is correct. This will be made even more clear by observing the Prokofiev-Rachmaninoff classification model."
   ]
  }
 ],
 "metadata": {
  "kernelspec": {
   "display_name": "Python [conda env:bs_capstone]",
   "language": "python",
   "name": "conda-env-bs_capstone-py"
  },
  "language_info": {
   "codemirror_mode": {
    "name": "ipython",
    "version": 3
   },
   "file_extension": ".py",
   "mimetype": "text/x-python",
   "name": "python",
   "nbconvert_exporter": "python",
   "pygments_lexer": "ipython3",
   "version": "3.7.8"
  }
 },
 "nbformat": 4,
 "nbformat_minor": 4
}
